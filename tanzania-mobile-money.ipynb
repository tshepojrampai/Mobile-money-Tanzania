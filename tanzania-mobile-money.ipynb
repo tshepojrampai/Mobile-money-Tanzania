{
 "cells": [
  {
   "cell_type": "markdown",
   "metadata": {},
   "source": [
    "# Financial Service Use In Tanzania\n",
    "\n",
    "### Key points\n",
    "* Financial sector industry is turning its focus towards innovation in order to cater for the ongoing disruptions caused by the 4th Industrial revolution\n",
    "\n",
    "* What drives up innovations is the increase in technology, technical finance, digital transformation and the increasing familiarity of robotics and AI\n",
    "\n",
    "* Corporations are gravitating to making their systems to be more user centric, allowing them to be agile and should the need be, would have to redefine themselves and technology companies as consumer preferences, demographics and lifestyle choices aren't as constant and as predictable as they were\n",
    "\n",
    "* Tanzania has over 57 million people and a GDP of USD 57 (2018) and GNI per capita of USD 1027(*WorldBank Group*)\n",
    "\n",
    "* 16,7% of the pupaltion have a bank account but 48.6% of them have other types of financial services\n",
    "\n",
    "<p> The survival of financial institutions in this versatile era of technology dependent on their ability to adapt and change should the need arise.</p>\n",
    "\n",
    "<p> According to the World Bank’s Global Findex Database, \"The power of financial technology to expand access to and use of accounts is demonstrated most persuasively in Sub-Saharan Africa.\" It is expected also to have, mobile money use in this region, to be on the rise as many people will have access to internet and cell phones They also state that, 21% of the adults in this region have access to mobile money.</p>\n",
    "\n",
    "<p> As population grows, so does revenue, more people alive means a bigger workforce theoretically and more people in the continent  have access to mobile payment platforms thus making sending money across countries by expatriates should be  made easier.</p>\n",
    "\n",
    "In Africa, mobile money, an electronic wallet service, plays an important role by extending financial services to people with limited resources who would not have access to the traditional way of banking and financial services. In the region, there were more than 130 mobile money services as of 2017 and over 100 million active users( *The Mobile Economy Sub-Saharan Africa 2018 report*)</p>\n",
    "\n",
    "<p> Tanzania, an Eastern Sub-saharan country and one of the developing countries, poverty and lack of resources is rife to the majority of the people. Financial Services, its use and access is of importance. In this project, we analyze the financial services data and access in this country with more interest in the use of mobile money.</p>\n",
    "\n",
    "\n",
    "    \n",
    "    \n"
   ]
  },
  {
   "cell_type": "markdown",
   "metadata": {},
   "source": [
    "### Loading and importing libraries, modules and data"
   ]
  },
  {
   "cell_type": "code",
   "execution_count": 2,
   "metadata": {},
   "outputs": [
    {
     "data": {
      "text/html": [
       "<div>\n",
       "<style scoped>\n",
       "    .dataframe tbody tr th:only-of-type {\n",
       "        vertical-align: middle;\n",
       "    }\n",
       "\n",
       "    .dataframe tbody tr th {\n",
       "        vertical-align: top;\n",
       "    }\n",
       "\n",
       "    .dataframe thead th {\n",
       "        text-align: right;\n",
       "    }\n",
       "</style>\n",
       "<table border=\"1\" class=\"dataframe\">\n",
       "  <thead>\n",
       "    <tr style=\"text-align: right;\">\n",
       "      <th></th>\n",
       "      <th>ID</th>\n",
       "      <th>Q1</th>\n",
       "      <th>Q2</th>\n",
       "      <th>Q3</th>\n",
       "      <th>Q4</th>\n",
       "      <th>Q5</th>\n",
       "      <th>Q6</th>\n",
       "      <th>Q7</th>\n",
       "      <th>Q8_1</th>\n",
       "      <th>Q8_2</th>\n",
       "      <th>...</th>\n",
       "      <th>Q17</th>\n",
       "      <th>Q18</th>\n",
       "      <th>Q19</th>\n",
       "      <th>Latitude</th>\n",
       "      <th>Longitude</th>\n",
       "      <th>mobile_money</th>\n",
       "      <th>savings</th>\n",
       "      <th>borrowing</th>\n",
       "      <th>insurance</th>\n",
       "      <th>mobile_money_classification</th>\n",
       "    </tr>\n",
       "  </thead>\n",
       "  <tbody>\n",
       "    <tr>\n",
       "      <th>0</th>\n",
       "      <td>5086</td>\n",
       "      <td>98</td>\n",
       "      <td>2</td>\n",
       "      <td>3</td>\n",
       "      <td>1</td>\n",
       "      <td>1</td>\n",
       "      <td>2</td>\n",
       "      <td>2</td>\n",
       "      <td>0</td>\n",
       "      <td>0</td>\n",
       "      <td>...</td>\n",
       "      <td>-1</td>\n",
       "      <td>4</td>\n",
       "      <td>4</td>\n",
       "      <td>-4.460442</td>\n",
       "      <td>29.811396</td>\n",
       "      <td>0</td>\n",
       "      <td>0</td>\n",
       "      <td>0</td>\n",
       "      <td>0</td>\n",
       "      <td>0</td>\n",
       "    </tr>\n",
       "    <tr>\n",
       "      <th>1</th>\n",
       "      <td>1258</td>\n",
       "      <td>40</td>\n",
       "      <td>1</td>\n",
       "      <td>1</td>\n",
       "      <td>3</td>\n",
       "      <td>5</td>\n",
       "      <td>1</td>\n",
       "      <td>1</td>\n",
       "      <td>1</td>\n",
       "      <td>0</td>\n",
       "      <td>...</td>\n",
       "      <td>4</td>\n",
       "      <td>1</td>\n",
       "      <td>4</td>\n",
       "      <td>-6.176438</td>\n",
       "      <td>39.244871</td>\n",
       "      <td>1</td>\n",
       "      <td>1</td>\n",
       "      <td>1</td>\n",
       "      <td>0</td>\n",
       "      <td>3</td>\n",
       "    </tr>\n",
       "    <tr>\n",
       "      <th>2</th>\n",
       "      <td>331</td>\n",
       "      <td>18</td>\n",
       "      <td>2</td>\n",
       "      <td>4</td>\n",
       "      <td>6</td>\n",
       "      <td>3</td>\n",
       "      <td>2</td>\n",
       "      <td>1</td>\n",
       "      <td>0</td>\n",
       "      <td>0</td>\n",
       "      <td>...</td>\n",
       "      <td>-1</td>\n",
       "      <td>1</td>\n",
       "      <td>1</td>\n",
       "      <td>-6.825702</td>\n",
       "      <td>37.652798</td>\n",
       "      <td>1</td>\n",
       "      <td>0</td>\n",
       "      <td>0</td>\n",
       "      <td>0</td>\n",
       "      <td>2</td>\n",
       "    </tr>\n",
       "    <tr>\n",
       "      <th>3</th>\n",
       "      <td>6729</td>\n",
       "      <td>50</td>\n",
       "      <td>1</td>\n",
       "      <td>1</td>\n",
       "      <td>3</td>\n",
       "      <td>1</td>\n",
       "      <td>1</td>\n",
       "      <td>1</td>\n",
       "      <td>0</td>\n",
       "      <td>0</td>\n",
       "      <td>...</td>\n",
       "      <td>-1</td>\n",
       "      <td>1</td>\n",
       "      <td>4</td>\n",
       "      <td>-3.372049</td>\n",
       "      <td>35.808307</td>\n",
       "      <td>1</td>\n",
       "      <td>0</td>\n",
       "      <td>1</td>\n",
       "      <td>0</td>\n",
       "      <td>3</td>\n",
       "    </tr>\n",
       "    <tr>\n",
       "      <th>4</th>\n",
       "      <td>8671</td>\n",
       "      <td>34</td>\n",
       "      <td>1</td>\n",
       "      <td>1</td>\n",
       "      <td>1</td>\n",
       "      <td>1</td>\n",
       "      <td>2</td>\n",
       "      <td>1</td>\n",
       "      <td>0</td>\n",
       "      <td>1</td>\n",
       "      <td>...</td>\n",
       "      <td>-1</td>\n",
       "      <td>1</td>\n",
       "      <td>4</td>\n",
       "      <td>-7.179645</td>\n",
       "      <td>31.039095</td>\n",
       "      <td>1</td>\n",
       "      <td>1</td>\n",
       "      <td>0</td>\n",
       "      <td>1</td>\n",
       "      <td>3</td>\n",
       "    </tr>\n",
       "  </tbody>\n",
       "</table>\n",
       "<p>5 rows × 37 columns</p>\n",
       "</div>"
      ],
      "text/plain": [
       "     ID  Q1  Q2  Q3  Q4  Q5  Q6  Q7  Q8_1  Q8_2  ...  Q17  Q18  Q19  Latitude  \\\n",
       "0  5086  98   2   3   1   1   2   2     0     0  ...   -1    4    4 -4.460442   \n",
       "1  1258  40   1   1   3   5   1   1     1     0  ...    4    1    4 -6.176438   \n",
       "2   331  18   2   4   6   3   2   1     0     0  ...   -1    1    1 -6.825702   \n",
       "3  6729  50   1   1   3   1   1   1     0     0  ...   -1    1    4 -3.372049   \n",
       "4  8671  34   1   1   1   1   2   1     0     1  ...   -1    1    4 -7.179645   \n",
       "\n",
       "   Longitude  mobile_money  savings  borrowing  insurance  \\\n",
       "0  29.811396             0        0          0          0   \n",
       "1  39.244871             1        1          1          0   \n",
       "2  37.652798             1        0          0          0   \n",
       "3  35.808307             1        0          1          0   \n",
       "4  31.039095             1        1          0          1   \n",
       "\n",
       "   mobile_money_classification  \n",
       "0                            0  \n",
       "1                            3  \n",
       "2                            2  \n",
       "3                            3  \n",
       "4                            3  \n",
       "\n",
       "[5 rows x 37 columns]"
      ]
     },
     "execution_count": 2,
     "metadata": {},
     "output_type": "execute_result"
    }
   ],
   "source": [
    "import pandas as  pd\n",
    "import seaborn as sns\n",
    "import matplotlib.pyplot as plt\n",
    "import numpy as np\n",
    "\n",
    "file= pd.read_csv(\"training.csv\")\n",
    "file.head(5)"
   ]
  },
  {
   "cell_type": "markdown",
   "metadata": {},
   "source": [
    "## 1. Examining the data"
   ]
  },
  {
   "cell_type": "markdown",
   "metadata": {},
   "source": [
    "<p> The data was collected through a series of questions from a survey. Every interviewee was given a unique ID number and the survey had 19 different types of questions pertaining to financial services, and seven more related to demographics, location and other classifications.</p> "
   ]
  },
  {
   "cell_type": "markdown",
   "metadata": {},
   "source": [
    "### Validating data and dropping null and NaN values"
   ]
  },
  {
   "cell_type": "code",
   "execution_count": 3,
   "metadata": {},
   "outputs": [],
   "source": [
    "#Validating data to avoid continuity of missing values\n",
    "file.dropna()\n",
    "\n",
    "#A good primary key consists of numbers and not strings, validating the ID column for such a result\n",
    "for i in file['ID'] : \n",
    "    if  isinstance(i, str) :\n",
    "        print('String ID invalid')\n",
    "\n",
    "# Validating if the data in Q1 is of int type\n",
    "for i in file['Q1'] :\n",
    "    if not isinstance(i, int) :\n",
    "        print('Invalid age, must be a number')\n",
    "\n",
    "# Validating the range of Q2\n",
    "for i in file['Q2'] :\n",
    "    if i not in range(1, 3) :\n",
    "        print('Invalid value.')\n",
    "        \n",
    "# Validating the range of Q3\n",
    "for i in file['Q3'] :\n",
    "     if i not in range(1, 5) :\n",
    "        print('Invalid value.') \n",
    "        \n",
    "#VAlidating the range of Q4 \n",
    "for i in file['Q4'] :\n",
    "    if i not in range(1, 8) :\n",
    "        file['Q4'].iloc[i]\n",
    "        \n",
    "#Validating Q5 range \n",
    "for i in file['Q5'] :\n",
    "    if i not in range(1, 7) :\n",
    "        print('Invalid value.')\n",
    "        \n",
    "# Validating Q6 range\n",
    "for i in file['Q6'] :\n",
    "    if i not in range(1, 3) :\n",
    "        print('Invalid value.')\n",
    "# Validating Q7 range\n",
    "for i in file['Q7'] :\n",
    "    if i not in range(1, 3) :\n",
    "        print('Invalid value.')\n",
    "        \n",
    "# Validating Q8_1 range\n",
    "for i in file[\"Q8_1\"]:\n",
    "    if i not in range(0, 2) :\n",
    "        print('Value invalid.')\n",
    "        \n",
    "# Validate Q8_2\n",
    "for i in file[\"Q8_2\"]:\n",
    "    if i not in range(0, 2) :\n",
    "        print('VAlue invalid')\n",
    "        \n",
    "# Validate Q8_3\n",
    "for i in file[\"Q8_3\"]:\n",
    "    if i not in range(0, 2) :\n",
    "        print(\"Invalid value\")\n",
    "        \n",
    "# Validate Q8_4\n",
    "for i in file['Q8_4']:\n",
    "    if i not in range(0, 2) :\n",
    "        print(\"Invalid value\")\n",
    "        \n",
    "# Validate Q8_5\n",
    "for i in file['Q8_5']:\n",
    "    if i not in range(0, 2) :\n",
    "        print(\"Invalid value\")\n",
    "              \n",
    "# Validate Q8_6range \n",
    "for i in file['Q8_6'] :\n",
    "    if i not in range(0, 2) :\n",
    "        print('Invalid value.')\n",
    "              \n",
    "# Validate Q8_7     \n",
    "for i in file['Q8_7'] :\n",
    "    if i not in range(0, 2) :\n",
    "        print('Invalid value')\n",
    "              \n",
    "# Validate Q8_8\n",
    "for i in file['Q8_8'] :\n",
    "    if i not in range(0, 2) :\n",
    "        print('Invalid value')\n",
    "        \n",
    "# Validate Q8_9\n",
    "for i in file['Q8_9'] :\n",
    "    if i not in range(0, 2) :\n",
    "        print('Inavalid value.')\n",
    "        \n",
    "# Validate Q8_10\n",
    "for i in file['Q8_10']:\n",
    "    if i not in range(0, 2) :\n",
    "        print('Invalid value')\n",
    "        \n",
    "# Validate Q8_11\n",
    "for i in file['Q8_11'] :\n",
    "    if i not in range(0, 2) :\n",
    "        print('Invalid value')\n",
    "\n",
    "# Validate Q9\n",
    "for i in file[\"Q9\"]:\n",
    "    if i not in range(-1, 8) :\n",
    "        print('Invalid value')\n",
    "# Validate Q10\n",
    "for i in file[\"Q10\"]:\n",
    "    if i not in range(-1, 11):\n",
    "        print('Invalid value')\n",
    "        \n",
    "# Validate Q11\n",
    "for i in file[\"Q11\"]:\n",
    "    if i not in range(-1, 13):\n",
    "        print(\"Invalid value\")\n",
    "        \n",
    "# Validate Q12\n",
    "for i in file[\"Q12\"]:\n",
    "    if i not in range(1,3):\n",
    "       print(\"Invalid value\")\n",
    "              \n",
    "#Validate Q13\n",
    "for i in file[\"Q13\"]:\n",
    "    if i not in range (-1,7):\n",
    "        print(\"Invalid value\")\n",
    "\n",
    "        \n",
    "              \n",
    "#Validate Q114\n",
    "for i in file['Q14'] :\n",
    "    if i not in range(1, 3) :\n",
    "        print('Invalid value')\n",
    "        \n",
    "#VAalidate q15\n",
    "for i in file['Q15'] :\n",
    "    if i not in range(-1, 7) :\n",
    "        print(\"inalid value\")\n",
    "        \n",
    "              \n",
    "#Validate Q16\n",
    "for i in file[\"Q16\"]:\n",
    "    if i not in range(-1, 6) :\n",
    "        print('invalid value')\n",
    "        \n",
    "              \n",
    "#Validate Q117\n",
    "for i in file['Q17'] :\n",
    "    if i not in range(-1, 6) :\n",
    "        print('Invalid value.')\n",
    "        \n",
    "              \n",
    "#Validate Q18\n",
    "for i in file['Q18'] :\n",
    "    if i not in range(1, 6) :\n",
    "        print('Invalid value') \n",
    "        \n",
    "              \n",
    "#Validate Q19\n",
    "for i in file['Q19'] :\n",
    "    if i not in range(1, 6) :\n",
    "        print('Invalid value') \n",
    "              \n",
    "#Asserting the lattitude values to be of data type float/Real Number\n",
    "for i in file['Latitude'] :\n",
    "    if not isinstance(i, float) :\n",
    "        print('Invalid value for lattitude')\n",
    "\n",
    "#Asserting the longitude values to be of data type float/Real Number\n",
    "for i in file['Longitude']:\n",
    "    if not isinstance(i, float) :\n",
    "        print('Invalid value for longitude')\n",
    "        \n",
    "#Validating money column to be in specified range\n",
    "for i in file['mobile_money'] :\n",
    "    if i not in range(0, 3) :\n",
    "        print('Value  invalid.') \n",
    "        \n",
    "#Validating savings column to be in specified range\n",
    "for i in file['savings'] :\n",
    "    if i not in range(0, 3) :\n",
    "        print('Value  invalid.')\n",
    "#Validating borrowing column to be in specified range\n",
    "for i in file['borrowing']:\n",
    "    if i not in range(0, 3) :\n",
    "        print('Value  invalid.')\n",
    "           \n",
    "\n",
    "#Validating insuarance olumn to be in specified range\n",
    "for i in file['insurance'] :\n",
    "    if i not in range(0, 3):\n",
    "        print('Value invalid.') \n",
    "        \n",
    "\n",
    "#Validating mob_money_class to be in specified range\n",
    "for i in file['mobile_money_classification'] :\n",
    "    if i not in range(0, 4) :\n",
    "        print('Value invalid.')\n",
    "              \n",
    "#Validate Q19\n",
    "for i in file['Q19'] :\n",
    "    if i not in range(1, 6) :\n",
    "        print('Invalid value') \n",
    "              \n",
    "#Asserting the lattitude values to be of data type float/Real Number\n",
    "for i in file['Latitude'] :\n",
    "    if not isinstance(i, float) :\n",
    "        print('Invalid value for lattitude')\n",
    "\n",
    "#Asserting the longitude values to be of data type float/Real Number\n",
    "for i in file['Longitude']:\n",
    "    if not isinstance(i, float) :\n",
    "        print('Invalid value for longitude')\n",
    "        \n",
    "#Validating money column to be in specified range\n",
    "for i in file['mobile_money'] :\n",
    "    if i not in range(0, 3) :\n",
    "        print('Value  invalid.') \n",
    "        \n",
    "#Validating savings column to be in specified range\n",
    "for i in file['savings'] :\n",
    "    if i not in range(0, 3) :\n",
    "        print('Value  invalid.')\n",
    "#Validating borrowing column to be in specified range\n",
    "for i in file['borrowing']:\n",
    "    if i not in range(0, 3) :\n",
    "        print('Value  invalid.')\n",
    "           \n",
    "\n",
    "#Validating insuarance olumn to be in specified range\n",
    "for i in file['insurance'] :\n",
    "    if i not in range(0, 3):\n",
    "        print('Value invalid.') \n",
    "        \n",
    "\n",
    "#Validating mob_money_class to be in specified range\n",
    "for i in file['mobile_money_classification'] :\n",
    "    if i not in range(0, 4) :\n",
    "        print('Value invalid.')"
   ]
  },
  {
   "cell_type": "markdown",
   "metadata": {},
   "source": [
    "### Finding missing values"
   ]
  },
  {
   "cell_type": "code",
   "execution_count": 4,
   "metadata": {},
   "outputs": [
    {
     "name": "stdout",
     "output_type": "stream",
     "text": [
      "<class 'pandas.core.frame.DataFrame'>\n",
      "RangeIndex: 7094 entries, 0 to 7093\n",
      "Data columns (total 37 columns):\n",
      "ID                             7094 non-null int64\n",
      "Q1                             7094 non-null int64\n",
      "Q2                             7094 non-null int64\n",
      "Q3                             7094 non-null int64\n",
      "Q4                             7094 non-null int64\n",
      "Q5                             7094 non-null int64\n",
      "Q6                             7094 non-null int64\n",
      "Q7                             7094 non-null int64\n",
      "Q8_1                           7094 non-null int64\n",
      "Q8_2                           7094 non-null int64\n",
      "Q8_3                           7094 non-null int64\n",
      "Q8_4                           7094 non-null int64\n",
      "Q8_5                           7094 non-null int64\n",
      "Q8_6                           7094 non-null int64\n",
      "Q8_7                           7094 non-null int64\n",
      "Q8_8                           7094 non-null int64\n",
      "Q8_9                           7094 non-null int64\n",
      "Q8_10                          7094 non-null int64\n",
      "Q8_11                          7094 non-null int64\n",
      "Q9                             7094 non-null int64\n",
      "Q10                            7094 non-null int64\n",
      "Q11                            7094 non-null int64\n",
      "Q12                            7094 non-null int64\n",
      "Q13                            7094 non-null int64\n",
      "Q14                            7094 non-null int64\n",
      "Q15                            7094 non-null int64\n",
      "Q16                            7094 non-null int64\n",
      "Q17                            7094 non-null int64\n",
      "Q18                            7094 non-null int64\n",
      "Q19                            7094 non-null int64\n",
      "Latitude                       7094 non-null float64\n",
      "Longitude                      7094 non-null float64\n",
      "mobile_money                   7094 non-null int64\n",
      "savings                        7094 non-null int64\n",
      "borrowing                      7094 non-null int64\n",
      "insurance                      7094 non-null int64\n",
      "mobile_money_classification    7094 non-null int64\n",
      "dtypes: float64(2), int64(35)\n",
      "memory usage: 2.0 MB\n"
     ]
    }
   ],
   "source": [
    "# Finding missing values\n",
    "file.info()\n",
    "m = 0\n",
    "for i in file:\n",
    "    for j in file[i]:\n",
    "        if j == '':\n",
    "            m += 1\n",
    "if m > 0:\n",
    "    print('There are missing data values')"
   ]
  },
  {
   "cell_type": "markdown",
   "metadata": {},
   "source": [
    "## 2. Basic Descriptive statistics of the dataset\n"
   ]
  },
  {
   "cell_type": "code",
   "execution_count": 5,
   "metadata": {},
   "outputs": [
    {
     "data": {
      "text/html": [
       "<div>\n",
       "<style scoped>\n",
       "    .dataframe tbody tr th:only-of-type {\n",
       "        vertical-align: middle;\n",
       "    }\n",
       "\n",
       "    .dataframe tbody tr th {\n",
       "        vertical-align: top;\n",
       "    }\n",
       "\n",
       "    .dataframe thead th {\n",
       "        text-align: right;\n",
       "    }\n",
       "</style>\n",
       "<table border=\"1\" class=\"dataframe\">\n",
       "  <thead>\n",
       "    <tr style=\"text-align: right;\">\n",
       "      <th></th>\n",
       "      <th>ID</th>\n",
       "      <th>Q1</th>\n",
       "      <th>Q2</th>\n",
       "      <th>Q3</th>\n",
       "      <th>Q4</th>\n",
       "      <th>Q5</th>\n",
       "      <th>Q6</th>\n",
       "      <th>Q7</th>\n",
       "      <th>Q8_1</th>\n",
       "      <th>Q8_2</th>\n",
       "      <th>...</th>\n",
       "      <th>Q17</th>\n",
       "      <th>Q18</th>\n",
       "      <th>Q19</th>\n",
       "      <th>Latitude</th>\n",
       "      <th>Longitude</th>\n",
       "      <th>mobile_money</th>\n",
       "      <th>savings</th>\n",
       "      <th>borrowing</th>\n",
       "      <th>insurance</th>\n",
       "      <th>mobile_money_classification</th>\n",
       "    </tr>\n",
       "  </thead>\n",
       "  <tbody>\n",
       "    <tr>\n",
       "      <th>count</th>\n",
       "      <td>7094.000000</td>\n",
       "      <td>7094.000000</td>\n",
       "      <td>7094.000000</td>\n",
       "      <td>7094.000000</td>\n",
       "      <td>7094.000000</td>\n",
       "      <td>7094.000000</td>\n",
       "      <td>7094.000000</td>\n",
       "      <td>7094.000000</td>\n",
       "      <td>7094.000000</td>\n",
       "      <td>7094.000000</td>\n",
       "      <td>...</td>\n",
       "      <td>7094.000000</td>\n",
       "      <td>7094.000000</td>\n",
       "      <td>7094.000000</td>\n",
       "      <td>7094.000000</td>\n",
       "      <td>7094.000000</td>\n",
       "      <td>7094.000000</td>\n",
       "      <td>7094.000000</td>\n",
       "      <td>7094.000000</td>\n",
       "      <td>7094.000000</td>\n",
       "      <td>7094.000000</td>\n",
       "    </tr>\n",
       "    <tr>\n",
       "      <th>mean</th>\n",
       "      <td>4742.627291</td>\n",
       "      <td>38.239498</td>\n",
       "      <td>1.559910</td>\n",
       "      <td>1.787426</td>\n",
       "      <td>3.060051</td>\n",
       "      <td>2.548915</td>\n",
       "      <td>1.840569</td>\n",
       "      <td>1.397942</td>\n",
       "      <td>0.062165</td>\n",
       "      <td>0.630110</td>\n",
       "      <td>...</td>\n",
       "      <td>-0.431914</td>\n",
       "      <td>1.860164</td>\n",
       "      <td>3.163378</td>\n",
       "      <td>-6.034378</td>\n",
       "      <td>35.354029</td>\n",
       "      <td>0.553989</td>\n",
       "      <td>0.461517</td>\n",
       "      <td>0.432901</td>\n",
       "      <td>0.151255</td>\n",
       "      <td>1.799267</td>\n",
       "    </tr>\n",
       "    <tr>\n",
       "      <th>std</th>\n",
       "      <td>2731.120086</td>\n",
       "      <td>16.332148</td>\n",
       "      <td>0.496433</td>\n",
       "      <td>1.165160</td>\n",
       "      <td>1.557779</td>\n",
       "      <td>1.534257</td>\n",
       "      <td>0.366103</td>\n",
       "      <td>0.489508</td>\n",
       "      <td>0.241472</td>\n",
       "      <td>0.482809</td>\n",
       "      <td>...</td>\n",
       "      <td>1.489879</td>\n",
       "      <td>1.351372</td>\n",
       "      <td>1.317691</td>\n",
       "      <td>2.720888</td>\n",
       "      <td>2.899511</td>\n",
       "      <td>0.497112</td>\n",
       "      <td>0.498552</td>\n",
       "      <td>0.495512</td>\n",
       "      <td>0.358322</td>\n",
       "      <td>1.196955</td>\n",
       "    </tr>\n",
       "    <tr>\n",
       "      <th>min</th>\n",
       "      <td>1.000000</td>\n",
       "      <td>16.000000</td>\n",
       "      <td>1.000000</td>\n",
       "      <td>1.000000</td>\n",
       "      <td>1.000000</td>\n",
       "      <td>1.000000</td>\n",
       "      <td>1.000000</td>\n",
       "      <td>1.000000</td>\n",
       "      <td>0.000000</td>\n",
       "      <td>0.000000</td>\n",
       "      <td>...</td>\n",
       "      <td>-1.000000</td>\n",
       "      <td>1.000000</td>\n",
       "      <td>1.000000</td>\n",
       "      <td>-11.467463</td>\n",
       "      <td>29.639578</td>\n",
       "      <td>0.000000</td>\n",
       "      <td>0.000000</td>\n",
       "      <td>0.000000</td>\n",
       "      <td>0.000000</td>\n",
       "      <td>0.000000</td>\n",
       "    </tr>\n",
       "    <tr>\n",
       "      <th>25%</th>\n",
       "      <td>2397.250000</td>\n",
       "      <td>25.000000</td>\n",
       "      <td>1.000000</td>\n",
       "      <td>1.000000</td>\n",
       "      <td>2.000000</td>\n",
       "      <td>1.000000</td>\n",
       "      <td>2.000000</td>\n",
       "      <td>1.000000</td>\n",
       "      <td>0.000000</td>\n",
       "      <td>0.000000</td>\n",
       "      <td>...</td>\n",
       "      <td>-1.000000</td>\n",
       "      <td>1.000000</td>\n",
       "      <td>2.000000</td>\n",
       "      <td>-8.275387</td>\n",
       "      <td>32.935429</td>\n",
       "      <td>0.000000</td>\n",
       "      <td>0.000000</td>\n",
       "      <td>0.000000</td>\n",
       "      <td>0.000000</td>\n",
       "      <td>1.000000</td>\n",
       "    </tr>\n",
       "    <tr>\n",
       "      <th>50%</th>\n",
       "      <td>4744.500000</td>\n",
       "      <td>35.000000</td>\n",
       "      <td>2.000000</td>\n",
       "      <td>1.000000</td>\n",
       "      <td>3.000000</td>\n",
       "      <td>3.000000</td>\n",
       "      <td>2.000000</td>\n",
       "      <td>1.000000</td>\n",
       "      <td>0.000000</td>\n",
       "      <td>1.000000</td>\n",
       "      <td>...</td>\n",
       "      <td>-1.000000</td>\n",
       "      <td>1.000000</td>\n",
       "      <td>4.000000</td>\n",
       "      <td>-6.087854</td>\n",
       "      <td>35.073326</td>\n",
       "      <td>1.000000</td>\n",
       "      <td>0.000000</td>\n",
       "      <td>0.000000</td>\n",
       "      <td>0.000000</td>\n",
       "      <td>2.000000</td>\n",
       "    </tr>\n",
       "    <tr>\n",
       "      <th>75%</th>\n",
       "      <td>7105.000000</td>\n",
       "      <td>48.000000</td>\n",
       "      <td>2.000000</td>\n",
       "      <td>3.000000</td>\n",
       "      <td>3.000000</td>\n",
       "      <td>4.000000</td>\n",
       "      <td>2.000000</td>\n",
       "      <td>2.000000</td>\n",
       "      <td>0.000000</td>\n",
       "      <td>1.000000</td>\n",
       "      <td>...</td>\n",
       "      <td>-1.000000</td>\n",
       "      <td>4.000000</td>\n",
       "      <td>4.000000</td>\n",
       "      <td>-3.517053</td>\n",
       "      <td>38.351815</td>\n",
       "      <td>1.000000</td>\n",
       "      <td>1.000000</td>\n",
       "      <td>1.000000</td>\n",
       "      <td>0.000000</td>\n",
       "      <td>3.000000</td>\n",
       "    </tr>\n",
       "    <tr>\n",
       "      <th>max</th>\n",
       "      <td>9459.000000</td>\n",
       "      <td>100.000000</td>\n",
       "      <td>2.000000</td>\n",
       "      <td>4.000000</td>\n",
       "      <td>8.000000</td>\n",
       "      <td>6.000000</td>\n",
       "      <td>2.000000</td>\n",
       "      <td>2.000000</td>\n",
       "      <td>1.000000</td>\n",
       "      <td>1.000000</td>\n",
       "      <td>...</td>\n",
       "      <td>5.000000</td>\n",
       "      <td>5.000000</td>\n",
       "      <td>5.000000</td>\n",
       "      <td>-1.084000</td>\n",
       "      <td>40.258744</td>\n",
       "      <td>1.000000</td>\n",
       "      <td>1.000000</td>\n",
       "      <td>1.000000</td>\n",
       "      <td>1.000000</td>\n",
       "      <td>3.000000</td>\n",
       "    </tr>\n",
       "  </tbody>\n",
       "</table>\n",
       "<p>8 rows × 37 columns</p>\n",
       "</div>"
      ],
      "text/plain": [
       "                ID           Q1           Q2           Q3           Q4  \\\n",
       "count  7094.000000  7094.000000  7094.000000  7094.000000  7094.000000   \n",
       "mean   4742.627291    38.239498     1.559910     1.787426     3.060051   \n",
       "std    2731.120086    16.332148     0.496433     1.165160     1.557779   \n",
       "min       1.000000    16.000000     1.000000     1.000000     1.000000   \n",
       "25%    2397.250000    25.000000     1.000000     1.000000     2.000000   \n",
       "50%    4744.500000    35.000000     2.000000     1.000000     3.000000   \n",
       "75%    7105.000000    48.000000     2.000000     3.000000     3.000000   \n",
       "max    9459.000000   100.000000     2.000000     4.000000     8.000000   \n",
       "\n",
       "                Q5           Q6           Q7         Q8_1         Q8_2  ...  \\\n",
       "count  7094.000000  7094.000000  7094.000000  7094.000000  7094.000000  ...   \n",
       "mean      2.548915     1.840569     1.397942     0.062165     0.630110  ...   \n",
       "std       1.534257     0.366103     0.489508     0.241472     0.482809  ...   \n",
       "min       1.000000     1.000000     1.000000     0.000000     0.000000  ...   \n",
       "25%       1.000000     2.000000     1.000000     0.000000     0.000000  ...   \n",
       "50%       3.000000     2.000000     1.000000     0.000000     1.000000  ...   \n",
       "75%       4.000000     2.000000     2.000000     0.000000     1.000000  ...   \n",
       "max       6.000000     2.000000     2.000000     1.000000     1.000000  ...   \n",
       "\n",
       "               Q17          Q18          Q19     Latitude    Longitude  \\\n",
       "count  7094.000000  7094.000000  7094.000000  7094.000000  7094.000000   \n",
       "mean     -0.431914     1.860164     3.163378    -6.034378    35.354029   \n",
       "std       1.489879     1.351372     1.317691     2.720888     2.899511   \n",
       "min      -1.000000     1.000000     1.000000   -11.467463    29.639578   \n",
       "25%      -1.000000     1.000000     2.000000    -8.275387    32.935429   \n",
       "50%      -1.000000     1.000000     4.000000    -6.087854    35.073326   \n",
       "75%      -1.000000     4.000000     4.000000    -3.517053    38.351815   \n",
       "max       5.000000     5.000000     5.000000    -1.084000    40.258744   \n",
       "\n",
       "       mobile_money      savings    borrowing    insurance  \\\n",
       "count   7094.000000  7094.000000  7094.000000  7094.000000   \n",
       "mean       0.553989     0.461517     0.432901     0.151255   \n",
       "std        0.497112     0.498552     0.495512     0.358322   \n",
       "min        0.000000     0.000000     0.000000     0.000000   \n",
       "25%        0.000000     0.000000     0.000000     0.000000   \n",
       "50%        1.000000     0.000000     0.000000     0.000000   \n",
       "75%        1.000000     1.000000     1.000000     0.000000   \n",
       "max        1.000000     1.000000     1.000000     1.000000   \n",
       "\n",
       "       mobile_money_classification  \n",
       "count                  7094.000000  \n",
       "mean                      1.799267  \n",
       "std                       1.196955  \n",
       "min                       0.000000  \n",
       "25%                       1.000000  \n",
       "50%                       2.000000  \n",
       "75%                       3.000000  \n",
       "max                       3.000000  \n",
       "\n",
       "[8 rows x 37 columns]"
      ]
     },
     "execution_count": 5,
     "metadata": {},
     "output_type": "execute_result"
    }
   ],
   "source": [
    "file. describe()"
   ]
  },
  {
   "cell_type": "markdown",
   "metadata": {},
   "source": [
    "<p> 7094 people were interviewed, and entries of the same amount for every question was captured.</p>"
   ]
  },
  {
   "cell_type": "markdown",
   "metadata": {},
   "source": [
    "## 3. Relationship between financial services accessed and human attributes"
   ]
  },
  {
   "cell_type": "markdown",
   "metadata": {},
   "source": [
    "### Slicing through the different income types"
   ]
  },
  {
   "cell_type": "code",
   "execution_count": 6,
   "metadata": {},
   "outputs": [],
   "source": [
    "df_mobile = file\n",
    "df_income= df_mobile.loc[:, 'Q8_1':'Q8_11'] \n",
    "\n",
    "df_mobile['income']= df_income.sum(axis = 1, skipna = True)"
   ]
  },
  {
   "cell_type": "markdown",
   "metadata": {},
   "source": [
    "### Renaming income questions to words"
   ]
  },
  {
   "cell_type": "code",
   "execution_count": 7,
   "metadata": {},
   "outputs": [],
   "source": [
    "df_mobile = df_mobile.rename({'Q1': 'age', 'Q2': 'gender', 'Q3':'marital_status', 'Q4':'highest_education', 'Q5':'land_ownership', 'Q6':'title_deed', 'Q7':'own_phone', 'Q8_1':'salaries_wages', 'Q8_2':'selling_produce', 'Q8_3':'selling_services', 'Q8_4':'piece_job', 'Q8_5':'rental_income', 'Q8_6':'interest_earned','Q8_7':'pension', 'Q8_8':'social_grant', 'Q8_9':'pocket_money', 'Q8_10':'someone_pays', 'Q8_11':'other', 'Q9':'employer_for_employed', 'Q10':'what_you_sell', 'Q11':'service_you_provide', 'Q12':'sent_money_in_12_months', 'Q13':'when_last_send_money','Q14':'recieved_money_in_12_months','Q15':'when_last_recieve_money','Q16':'how_often_purchase_mobilemoney','Q17':'how_often_pay_bills_with_mm','Q18':'literacy_Kiswhahili','Q19':'literacy_english'}, axis='columns')\n",
    "\n",
    "\n",
    "df_income= df_mobile[['ID','age','gender', 'marital_status', 'title_deed', \n",
    "                      'how_often_purchase_mobilemoney','how_often_pay_bills_with_mm','salaries_wages',\n",
    "                      'selling_produce', 'selling_services',\n",
    "                      'piece_job', 'rental_income', 'interest_earned', 'pension',\n",
    "                      'social_grant', 'pocket_money', 'someone_pays', 'other', 'highest_education', 'mobile_money', 'Latitude', 'Longitude']]"
   ]
  },
  {
   "cell_type": "markdown",
   "metadata": {},
   "source": [
    "### Renaming and mapping number answers to words\n"
   ]
  },
  {
   "cell_type": "code",
   "execution_count": 8,
   "metadata": {
    "scrolled": false
   },
   "outputs": [
    {
     "data": {
      "text/html": [
       "<div>\n",
       "<style scoped>\n",
       "    .dataframe tbody tr th:only-of-type {\n",
       "        vertical-align: middle;\n",
       "    }\n",
       "\n",
       "    .dataframe tbody tr th {\n",
       "        vertical-align: top;\n",
       "    }\n",
       "\n",
       "    .dataframe thead th {\n",
       "        text-align: right;\n",
       "    }\n",
       "</style>\n",
       "<table border=\"1\" class=\"dataframe\">\n",
       "  <thead>\n",
       "    <tr style=\"text-align: right;\">\n",
       "      <th></th>\n",
       "      <th>ID</th>\n",
       "      <th>age</th>\n",
       "      <th>gender</th>\n",
       "      <th>marital_status</th>\n",
       "      <th>highest_education</th>\n",
       "      <th>land_ownership</th>\n",
       "      <th>title_deed</th>\n",
       "      <th>own_phone</th>\n",
       "      <th>salaries_wages</th>\n",
       "      <th>selling_produce</th>\n",
       "      <th>...</th>\n",
       "      <th>literacy_Kiswhahili</th>\n",
       "      <th>literacy_english</th>\n",
       "      <th>Latitude</th>\n",
       "      <th>Longitude</th>\n",
       "      <th>mobile_money</th>\n",
       "      <th>savings</th>\n",
       "      <th>borrowing</th>\n",
       "      <th>insurance</th>\n",
       "      <th>mobile_money_classification</th>\n",
       "      <th>income</th>\n",
       "    </tr>\n",
       "  </thead>\n",
       "  <tbody>\n",
       "    <tr>\n",
       "      <th>0</th>\n",
       "      <td>5086</td>\n",
       "      <td>98</td>\n",
       "      <td>female</td>\n",
       "      <td>widowed</td>\n",
       "      <td>1</td>\n",
       "      <td>1</td>\n",
       "      <td>2</td>\n",
       "      <td>2</td>\n",
       "      <td>0</td>\n",
       "      <td>0</td>\n",
       "      <td>...</td>\n",
       "      <td>4</td>\n",
       "      <td>4</td>\n",
       "      <td>-4.460442</td>\n",
       "      <td>29.811396</td>\n",
       "      <td>0</td>\n",
       "      <td>0</td>\n",
       "      <td>0</td>\n",
       "      <td>0</td>\n",
       "      <td>0</td>\n",
       "      <td>1</td>\n",
       "    </tr>\n",
       "    <tr>\n",
       "      <th>1</th>\n",
       "      <td>1258</td>\n",
       "      <td>40</td>\n",
       "      <td>male</td>\n",
       "      <td>married</td>\n",
       "      <td>3</td>\n",
       "      <td>5</td>\n",
       "      <td>1</td>\n",
       "      <td>1</td>\n",
       "      <td>1</td>\n",
       "      <td>0</td>\n",
       "      <td>...</td>\n",
       "      <td>1</td>\n",
       "      <td>4</td>\n",
       "      <td>-6.176438</td>\n",
       "      <td>39.244871</td>\n",
       "      <td>1</td>\n",
       "      <td>1</td>\n",
       "      <td>1</td>\n",
       "      <td>0</td>\n",
       "      <td>3</td>\n",
       "      <td>1</td>\n",
       "    </tr>\n",
       "    <tr>\n",
       "      <th>2</th>\n",
       "      <td>331</td>\n",
       "      <td>18</td>\n",
       "      <td>female</td>\n",
       "      <td>unmarried</td>\n",
       "      <td>6</td>\n",
       "      <td>3</td>\n",
       "      <td>2</td>\n",
       "      <td>1</td>\n",
       "      <td>0</td>\n",
       "      <td>0</td>\n",
       "      <td>...</td>\n",
       "      <td>1</td>\n",
       "      <td>1</td>\n",
       "      <td>-6.825702</td>\n",
       "      <td>37.652798</td>\n",
       "      <td>1</td>\n",
       "      <td>0</td>\n",
       "      <td>0</td>\n",
       "      <td>0</td>\n",
       "      <td>2</td>\n",
       "      <td>1</td>\n",
       "    </tr>\n",
       "    <tr>\n",
       "      <th>3</th>\n",
       "      <td>6729</td>\n",
       "      <td>50</td>\n",
       "      <td>male</td>\n",
       "      <td>married</td>\n",
       "      <td>3</td>\n",
       "      <td>1</td>\n",
       "      <td>1</td>\n",
       "      <td>1</td>\n",
       "      <td>0</td>\n",
       "      <td>0</td>\n",
       "      <td>...</td>\n",
       "      <td>1</td>\n",
       "      <td>4</td>\n",
       "      <td>-3.372049</td>\n",
       "      <td>35.808307</td>\n",
       "      <td>1</td>\n",
       "      <td>0</td>\n",
       "      <td>1</td>\n",
       "      <td>0</td>\n",
       "      <td>3</td>\n",
       "      <td>1</td>\n",
       "    </tr>\n",
       "    <tr>\n",
       "      <th>4</th>\n",
       "      <td>8671</td>\n",
       "      <td>34</td>\n",
       "      <td>male</td>\n",
       "      <td>married</td>\n",
       "      <td>1</td>\n",
       "      <td>1</td>\n",
       "      <td>2</td>\n",
       "      <td>1</td>\n",
       "      <td>0</td>\n",
       "      <td>1</td>\n",
       "      <td>...</td>\n",
       "      <td>1</td>\n",
       "      <td>4</td>\n",
       "      <td>-7.179645</td>\n",
       "      <td>31.039095</td>\n",
       "      <td>1</td>\n",
       "      <td>1</td>\n",
       "      <td>0</td>\n",
       "      <td>1</td>\n",
       "      <td>3</td>\n",
       "      <td>1</td>\n",
       "    </tr>\n",
       "  </tbody>\n",
       "</table>\n",
       "<p>5 rows × 38 columns</p>\n",
       "</div>"
      ],
      "text/plain": [
       "     ID  age  gender marital_status  highest_education  land_ownership  \\\n",
       "0  5086   98  female        widowed                  1               1   \n",
       "1  1258   40    male        married                  3               5   \n",
       "2   331   18  female      unmarried                  6               3   \n",
       "3  6729   50    male        married                  3               1   \n",
       "4  8671   34    male        married                  1               1   \n",
       "\n",
       "   title_deed  own_phone  salaries_wages  selling_produce  ...  \\\n",
       "0           2          2               0                0  ...   \n",
       "1           1          1               1                0  ...   \n",
       "2           2          1               0                0  ...   \n",
       "3           1          1               0                0  ...   \n",
       "4           2          1               0                1  ...   \n",
       "\n",
       "   literacy_Kiswhahili  literacy_english  Latitude  Longitude  mobile_money  \\\n",
       "0                    4                 4 -4.460442  29.811396             0   \n",
       "1                    1                 4 -6.176438  39.244871             1   \n",
       "2                    1                 1 -6.825702  37.652798             1   \n",
       "3                    1                 4 -3.372049  35.808307             1   \n",
       "4                    1                 4 -7.179645  31.039095             1   \n",
       "\n",
       "   savings  borrowing  insurance  mobile_money_classification  income  \n",
       "0        0          0          0                            0       1  \n",
       "1        1          1          0                            3       1  \n",
       "2        0          0          0                            2       1  \n",
       "3        0          1          0                            3       1  \n",
       "4        1          0          1                            3       1  \n",
       "\n",
       "[5 rows x 38 columns]"
      ]
     },
     "execution_count": 8,
     "metadata": {},
     "output_type": "execute_result"
    }
   ],
   "source": [
    "gender_to_word= {\n",
    "    1: 'male',\n",
    "    2:'female'\n",
    "}\n",
    "df_mobile.gender=df_mobile.gender.map(gender_to_word)\n",
    "\n",
    "\n",
    "marital_to_word= {\n",
    "    1: 'married',\n",
    "    2:'divorced',\n",
    "    3:'widowed',\n",
    "    4:'unmarried'\n",
    "}\n",
    "df_mobile.marital_status=df_mobile.marital_status.map(marital_to_word)\n",
    "\n",
    "df_mobile.head()"
   ]
  },
  {
   "cell_type": "markdown",
   "metadata": {},
   "source": [
    "### Declaring and initialise  the desired columns and Categories "
   ]
  },
  {
   "cell_type": "code",
   "execution_count": 9,
   "metadata": {},
   "outputs": [],
   "source": [
    "\n",
    "#Desired columns\n",
    "none = file[(file.mobile_money_classification == 0) | (file.mobile_money_classification == 1)]\n",
    "\n",
    "mobile = file[(file.mobile_money_classification == 2)]\n",
    "\n",
    "both = file[(file.mobile_money_classification == 3)]\n",
    "\n",
    "#cATEGORIES\n",
    "\n",
    "age = file.Q1\n",
    "gender = file.Q2\n",
    "marital_status = file.Q3\n",
    "land_ownership = file.Q5\n",
    "\n",
    "mobile_money= file[(file.mobile_money_classification == 2) | (file.mobile_money_classification == 3)]\n",
    "\n",
    "classification = []\n",
    "for i in file['mobile_money_classification']:\n",
    "    if i == 0 or i == 1:\n",
    "        classification.append('none')\n",
    "    else:\n",
    "        classification.append('mobile')\n",
    "file['classification'] = classification"
   ]
  },
  {
   "cell_type": "markdown",
   "metadata": {},
   "source": [
    "## 3.1 Age vs Financial Services Accessed"
   ]
  },
  {
   "cell_type": "code",
   "execution_count": 10,
   "metadata": {},
   "outputs": [
    {
     "data": {
      "image/png": "[encoded data removed]",
      "text/plain": [
       "<Figure size 432x288 with 1 Axes>"
      ]
     },
     "metadata": {
      "needs_background": "light"
     },
     "output_type": "display_data"
    },
    {
     "name": "stdout",
     "output_type": "stream",
     "text": [
      "The majority of people who do not use mobile money are between the ages of 10 and 40 years with a large proportion being between  10 and 20 and fewer people post 60 years.\n"
     ]
    },
    {
     "data": {
      "image/png": "[encoded data removed]",
      "text/plain": [
       "<Figure size 432x288 with 1 Axes>"
      ]
     },
     "metadata": {
      "needs_background": "light"
     },
     "output_type": "display_data"
    },
    {
     "name": "stdout",
     "output_type": "stream",
     "text": [
      "The majority of people who only use mobile money are between the ages of 10 and 40 years with a large proportion being between  10 and 30 and fewer people post 60 years.\n"
     ]
    },
    {
     "data": {
      "image/png": "[encoded data removed]",
      "text/plain": [
       "<Figure size 432x288 with 1 Axes>"
      ]
     },
     "metadata": {
      "needs_background": "light"
     },
     "output_type": "display_data"
    },
    {
     "name": "stdout",
     "output_type": "stream",
     "text": [
      "The majority of people who use mobile money and at least one other financial services are between the ages of 10 and 30 years with a large proportion being between  10 and 30 and fewer people post 60 years.\n"
     ]
    }
   ],
   "source": [
    "# Age vs Financial services plots\n",
    "age_none = none.Q1\n",
    "age_mobile = mobile.Q1\n",
    "age_both = both.Q1\n",
    "\n",
    "plt.hist(age_none, color = ['orange'])\n",
    "plt.xlabel('Age distribution')\n",
    "plt.ylabel('Number of people')\n",
    "plt.title('Graph showing amount of people who do not use Mobile Money in different age groups')\n",
    "plt.show()\n",
    "print(\"The majority of people who do not use mobile money are between the ages of 10 and 40 years with a large proportion being between  10 and 20 and fewer people post 60 years.\")\n",
    "\n",
    "plt.hist(age_mobile, color = ['green'])\n",
    "plt.xlabel('Age distribution')\n",
    "plt.ylabel('Number of people')\n",
    "plt.title('Graph showing amount of people who only use Mobile Money in different age groups')\n",
    "plt.show()\n",
    "print(\"The majority of people who only use mobile money are between the ages of 10 and 40 years with a large proportion being between  10 and 30 and fewer people post 60 years.\")\n",
    "\n",
    "\n",
    "plt.hist(age_both, color = ['blue'])\n",
    "plt.xlabel('Age distribution')\n",
    "plt.ylabel('Number of people')\n",
    "plt.title('Graph showing amount of people who use both other financial service and Mobile Money in different age groups')\n",
    "plt.show()\n",
    "print(\"The majority of people who use mobile money and at least one other financial services are between the ages of 10 and 30 years with a large proportion being between  10 and 30 and fewer people post 60 years.\")"
   ]
  },
  {
   "cell_type": "markdown",
   "metadata": {},
   "source": [
    "#### A closer look at the relationship between financial service accessed vs Age"
   ]
  },
  {
   "cell_type": "code",
   "execution_count": 11,
   "metadata": {},
   "outputs": [
    {
     "data": {
      "text/plain": [
       "<seaborn.axisgrid.FacetGrid at 0x7fc2cce8cdd0>"
      ]
     },
     "execution_count": 11,
     "metadata": {},
     "output_type": "execute_result"
    },
    {
     "data": {
      "image/png": "[encoded data removed]",
      "text/plain": [
       "<Figure size 864x864 with 2 Axes>"
      ]
     },
     "metadata": {
      "needs_background": "light"
     },
     "output_type": "display_data"
    },
    {
     "data": {
      "image/png": "[encoded data removed]",
      "text/plain": [
       "<Figure size 432x864 with 1 Axes>"
      ]
     },
     "metadata": {
      "needs_background": "light"
     },
     "output_type": "display_data"
    }
   ],
   "source": [
    "\n",
    "sns.catplot(y='Q1',kind='count', col='classification', height=12, aspect=.5, data=file).set(xlabel='Age')\n",
    "sns.catplot(y='Q1',kind='count', height=12,aspect=.5, data=file).set(title='Both', xlabel='Age')"
   ]
  },
  {
   "cell_type": "markdown",
   "metadata": {},
   "source": [
    "<p> As expected, the distribution of ages in all graphs is skewed to the right. That is, the majority of the people in these graphs were young.</p>\n",
    "<p> From this, it is evident that, the majority of  the contributors were people who are younger than 40 years.\n",
    "</p>\n",
    "\n",
    "\n"
   ]
  },
  {
   "cell_type": "markdown",
   "metadata": {},
   "source": [
    "### 3.2 Financial Service accessed vs Gender"
   ]
  },
  {
   "cell_type": "markdown",
   "metadata": {},
   "source": [
    "Below are graphs that show the relationship between the two genders and different financial services used."
   ]
  },
  {
   "cell_type": "code",
   "execution_count": 19,
   "metadata": {},
   "outputs": [
    {
     "name": "stdout",
     "output_type": "stream",
     "text": [
      "\n"
     ]
    },
    {
     "data": {
      "text/plain": [
       "3122"
      ]
     },
     "execution_count": 19,
     "metadata": {},
     "output_type": "execute_result"
    },
    {
     "data": {
      "image/png": "[encoded data removed]",
      "text/plain": [
       "<Figure size 864x432 with 3 Axes>"
      ]
     },
     "metadata": {
      "needs_background": "light"
     },
     "output_type": "display_data"
    }
   ],
   "source": [
    "#Financial services vs gender\n",
    "mobile_money= df_mobile[df_mobile.mobile_money==1]\n",
    "no_mobile_money= df_mobile[df_mobile.mobile_money==0]\n",
    "\n",
    "fig, axes= plt.subplots(3, 1, figsize=[12, 6], sharex= True)\n",
    "\n",
    "sns.countplot(y='gender' , data=mobile_money, ax= axes[0]).set_title('mobile money only')\n",
    "print('')\n",
    "sns.countplot(y='gender' , data=no_mobile_money, ax= axes[1]).set_title('No mobile money as a service')\n",
    "sns.countplot(y='gender' , data=df_mobile, ax= axes[2]).set_title('Mobile money and at least one other Fin Service')\n",
    "plt.subplots_adjust(hspace = 4 )\n",
    "\n",
    "x= df_mobile[\"gender\"][df_mobile[\"gender\"]==\"female\"]\n",
    "y = x= df_mobile[\"gender\"][df_mobile[\"gender\"]==\"male\"]\n",
    "x.count()\n",
    "y.count()"
   ]
  },
  {
   "cell_type": "markdown",
   "metadata": {},
   "source": [
    "#### Mobile money only vs gender\n",
    "\n",
    "There seems to be no significant difference between the two genders and the use of mobile money only. This could be as a result of 48% percent having access to other financial services other than having a bank account.  \n",
    "\n",
    "#### No mobile money as a service\n",
    "\n",
    "In this relationship, there are more females who do not use mobile money as a financial service, a total of 2000 for females and just over a 1000 for males.\n",
    "\n",
    "#### Mobile money and at least one other\n",
    "\n",
    "More females use at least two financial services.  There are 3972 observations of class **female** and  3122  of class **male** in the dataset. \n",
    " \n"
   ]
  },
  {
   "cell_type": "code",
   "execution_count": 29,
   "metadata": {},
   "outputs": [
    {
     "name": "stdout",
     "output_type": "stream",
     "text": [
      "Total male records:  3972\n"
     ]
    }
   ],
   "source": [
    "\n",
    "y = df_mobile[\"gender\"][df_mobile[\"gender\"]==\"female\"]\n",
    "\n",
    "print(\"Total male records: \", y.count())"
   ]
  },
  {
   "cell_type": "code",
   "execution_count": 30,
   "metadata": {},
   "outputs": [
    {
     "name": "stdout",
     "output_type": "stream",
     "text": [
      "Total male records:  3122\n"
     ]
    }
   ],
   "source": [
    "x= df_mobile[\"gender\"][df_mobile[\"gender\"]==\"male\"]\n",
    "\n",
    "print(\"Total male records: \", x.count())"
   ]
  },
  {
   "cell_type": "markdown",
   "metadata": {},
   "source": [
    "### 3.2 Marital Status vs Financial Services Used"
   ]
  },
  {
   "cell_type": "code",
   "execution_count": 108,
   "metadata": {},
   "outputs": [
    {
     "data": {
      "text/plain": [
       "<seaborn.axisgrid.FacetGrid at 0x7f4cbaa36850>"
      ]
     },
     "execution_count": 108,
     "metadata": {},
     "output_type": "execute_result"
    },
    {
     "data": {
      "image/png": "[encoded data removed]",
      "text/plain": [
       "<Figure size 360x360 with 2 Axes>"
      ]
     },
     "metadata": {
      "needs_background": "light"
     },
     "output_type": "display_data"
    },
    {
     "data": {
      "image/png": "[encoded data removed]",
      "text/plain": [
       "<Figure size 180x360 with 1 Axes>"
      ]
     },
     "metadata": {
      "needs_background": "light"
     },
     "output_type": "display_data"
    }
   ],
   "source": [
    "df_income_id= df_income.ID.drop_duplicates()\n",
    "\n",
    "# Marital Status vs financial status\n",
    "sns.catplot(x='Q3',kind='count', col='classification', aspect=.5, data=file).set(xlabel='Marital Status')\n",
    "sns.catplot(x='Q3',kind='count',aspect=.5, data=file).set(title='Both', xlabel='Marital Status')"
   ]
  },
  {
   "cell_type": "markdown",
   "metadata": {},
   "source": [
    "**Marital status :** 1 = **Married** 2 = **Divorced** 3 = **Widowed** 4 = **NeverMarried**\n",
    "\n",
    "There are more married people who uses none mobile money services, followed by those who were never married, widowed and then the divorcees.\n",
    "\n",
    "More married people do also use the mobile money service compared to other marital status. It is followed that, more single people do use this same service.\n",
    "\n",
    "Married people again use both services, followed by singles and no difference in the amount of widowers and divorcees.\n",
    "\n",
    "It is arguable to say that, from this data we can deduce that more subjects in this data sets where married and others were single"
   ]
  },
  {
   "cell_type": "markdown",
   "metadata": {},
   "source": [
    "### 3.3 Financial Services accessed vs Land Ownership"
   ]
  },
  {
   "cell_type": "code",
   "execution_count": 109,
   "metadata": {
    "scrolled": true
   },
   "outputs": [
    {
     "data": {
      "image/png": "[encoded data removed]",
      "text/plain": [
       "<Figure size 432x288 with 1 Axes>"
      ]
     },
     "metadata": {},
     "output_type": "display_data"
    },
    {
     "data": {
      "image/png": "[encoded data removed]",
      "text/plain": [
       "<Figure size 432x288 with 1 Axes>"
      ]
     },
     "metadata": {},
     "output_type": "display_data"
    },
    {
     "data": {
      "text/plain": [
       "<matplotlib.legend.Legend at 0x7f4cb6c12d10>"
      ]
     },
     "execution_count": 109,
     "metadata": {},
     "output_type": "execute_result"
    },
    {
     "data": {
      "image/png": "[encoded data removed]",
      "text/plain": [
       "<Figure size 432x288 with 1 Axes>"
      ]
     },
     "metadata": {},
     "output_type": "display_data"
    }
   ],
   "source": [
    "#Land Vs Financial Services\n",
    "land_to_word= {\n",
    "    1: 'land_owner',\n",
    "    2:'none_land_owner'\n",
    "}\n",
    "df_mobile['title_deed']= df_mobile.title_deed.map(land_to_word)\n",
    "\n",
    "plt.figure(0)\n",
    "plt.title('has mobile money only')\n",
    "plt.pie(mobile_money.title_deed.value_counts(),  autopct='%1.1f%%', shadow=True, startangle=140, labeldistance=1.2)\n",
    "plt.legend(['none land owner', 'land owner'])\n",
    "        \n",
    "\n",
    "plt.figure(1)\n",
    "plt.title('no mobile money but at least one financial service')\n",
    "plt.pie(no_mobile_money.title_deed.value_counts(), autopct='%1.1f%%', shadow=True, startangle=140, labeldistance=1.2)\n",
    "plt.legend(['not land owner', 'land owner'])\n",
    "\n",
    "plt.show()\n",
    "\n",
    "plt.figure(2)\n",
    "plt.title('Mobile money and at least one other financial service')\n",
    "plt.pie(df_mobile.title_deed.value_counts(), autopct='%1.1f%%', shadow=True, startangle=140, labeldistance=1.2)\n",
    "plt.legend(['none land owner', 'land owner'])"
   ]
  },
  {
   "cell_type": "markdown",
   "metadata": {},
   "source": []
  },
  {
   "cell_type": "code",
   "execution_count": 110,
   "metadata": {},
   "outputs": [
    {
     "data": {
      "text/plain": [
       "<seaborn.axisgrid.FacetGrid at 0x7f4cb629b650>"
      ]
     },
     "execution_count": 110,
     "metadata": {},
     "output_type": "execute_result"
    },
    {
     "data": {
      "image/png": "[encoded data removed]",
      "text/plain": [
       "<Figure size 432x360 with 2 Axes>"
      ]
     },
     "metadata": {
      "needs_background": "light"
     },
     "output_type": "display_data"
    },
    {
     "data": {
      "image/png": "[encoded data removed]",
      "text/plain": [
       "<Figure size 216x360 with 1 Axes>"
      ]
     },
     "metadata": {
      "needs_background": "light"
     },
     "output_type": "display_data"
    }
   ],
   "source": [
    "num_to_word={1: \"Landowner\",\n",
    "             2: \"Owns_w/_other\",\n",
    "             3: \"HH_member_owns\",\n",
    "             4:\"Rented\",\n",
    "             5:\"Doesn't_own\",\n",
    "             6:\"Don't_Own\"\n",
    "            }\n",
    "\n",
    "\n",
    "l_o = land_ownership_none.groupby(land_ownership_none.iloc[:-1]).count()\n",
    "land_ownership_none_list = list('')\n",
    "labels = ['owns','owns with another','household member','rented','does not own','Dont know']\n",
    "for i in l_o :\n",
    "    land_ownership_none_list.append(i)\n",
    "    \n",
    "sns.catplot(x='Q5',kind='count', col='classification', aspect=.6, data=file).set(xlabel='Land Ownership')\n",
    "sns.catplot(x='Q5',kind='count',aspect=.6, data=file).set(title='Both', xlabel='Land Ownership')"
   ]
  },
  {
   "cell_type": "markdown",
   "metadata": {},
   "source": [
    " #### Ownership status\n",
    "* 1: Landowner\n",
    "\n",
    "* 2: Owns w/ other\\\n",
    "* 3: Household member owns\n",
    "* 4: Rented Plot or Land\n",
    "* 5: They Do not own or rent\n",
    "* 6: They Do not know\n",
    "             "
   ]
  },
  {
   "cell_type": "code",
   "execution_count": 34,
   "metadata": {},
   "outputs": [
    {
     "data": {
      "image/png": "[encoded data removed]",
      "text/plain": [
       "<Figure size 432x288 with 1 Axes>"
      ]
     },
     "metadata": {
      "needs_background": "light"
     },
     "output_type": "display_data"
    },
    {
     "data": {
      "image/png": "[encoded data removed]",
      "text/plain": [
       "<Figure size 432x288 with 1 Axes>"
      ]
     },
     "metadata": {
      "needs_background": "light"
     },
     "output_type": "display_data"
    },
    {
     "data": {
      "image/png": "[encoded data removed]",
      "text/plain": [
       "<Figure size 432x288 with 1 Axes>"
      ]
     },
     "metadata": {
      "needs_background": "light"
     },
     "output_type": "display_data"
    }
   ],
   "source": [
    "# Land ownership vs Financial services plot\n",
    "land_ownership_none = none.Q5\n",
    "land_ownership_mobile = mobile.Q5\n",
    "land_ownership_both = both.Q5\n",
    "\n",
    "l_o = land_ownership_none.groupby(land_ownership_none.iloc[:-1]).count()\n",
    "land_ownership_none_list = list('')\n",
    "labels = ['owns','owns with another','household member','rented','does not own','Dont know']\n",
    "for i in l_o :\n",
    "    land_ownership_none_list.append(i)\n",
    "    \n",
    "plt.barh(labels, land_ownership_none_list, color = ['blue','orange','red', 'green', 'purple', 'yellow'])\n",
    "plt.xlabel('Number of people')\n",
    "plt.ylabel('Ownership Status')\n",
    "plt.title('Land ownership of people who do not use mobile mone')\n",
    "plt.show()\n",
    "\n",
    "l_o = land_ownership_mobile.groupby(land_ownership_mobile.iloc[:-1]).count()\n",
    "land_ownership_mobile_list = list('')\n",
    "labels = ['owns','owns with another','household member','rented','does not own','Dont know']\n",
    "for i in l_o :\n",
    "    land_ownership_mobile_list.append(i)\n",
    "    \n",
    "plt.barh(labels, land_ownership_mobile_list, color = ['blue','orange','red', 'green', 'purple'])\n",
    "plt.xlabel('Number of people')\n",
    "plt.ylabel('Ownership Status')\n",
    "plt.title('Land ownership of people who use mobile money')\n",
    "plt.show()\n",
    "\n",
    "l_o = land_ownership_both.groupby(land_ownership_both.iloc[:-1]).count()\n",
    "land_ownership_both_list = list('')\n",
    "labels = ['owns','owns with another','household member','rented','does not own','Dont know']\n",
    "for i in l_o :\n",
    "    land_ownership_both_list.append(i)\n",
    "    \n",
    "plt.barh(labels, land_ownership_both_list, color = ['blue','orange','red', 'green', 'purple'])\n",
    "plt.xlabel('Number of people')\n",
    "plt.ylabel('Ownership Status')\n",
    "plt.title('Land ownership of people who use mobile money and other financial service')\n",
    "plt.show()"
   ]
  },
  {
   "cell_type": "code",
   "execution_count": null,
   "metadata": {},
   "outputs": [],
   "source": []
  },
  {
   "cell_type": "markdown",
   "metadata": {},
   "source": [
    "### 3.4 Financial Services Accessed vs Income Type\n"
   ]
  },
  {
   "cell_type": "code",
   "execution_count": 37,
   "metadata": {},
   "outputs": [
    {
     "name": "stdout",
     "output_type": "stream",
     "text": [
      " The totals of the different types of incomes are as follows: \n"
     ]
    },
    {
     "data": {
      "text/plain": [
       "selling_produce     4470\n",
       "piece_job           2393\n",
       "pocket_money        1112\n",
       "salaries_wages       441\n",
       "selling_services     412\n",
       "someone_pays         410\n",
       "social_grant         131\n",
       "rental_income         67\n",
       "interest_earned       34\n",
       "pension               34\n",
       "other                  9\n",
       "Name: income_type, dtype: int64"
      ]
     },
     "execution_count": 37,
     "metadata": {},
     "output_type": "execute_result"
    }
   ],
   "source": [
    "df_income= pd.melt(df_income, id_vars=['ID','age','gender','marital_status', 'title_deed','Latitude', 'Longitude','mobile_money', 'highest_education', 'how_often_purchase_mobilemoney', 'how_often_pay_bills_with_mm'], var_name= 'income_type', value_name='income_value')\n",
    "df_income.head()\n",
    "\n",
    "num_to_word= {\n",
    "    1:'yes',\n",
    "    0:'no'\n",
    "}\n",
    "df_income['income_value']= df_income.income_value.map(num_to_word)\n",
    "\n",
    "\n",
    "df_income['mobile_money']= df_income.mobile_money.map(num_to_word)\n",
    "\n",
    "df_income_mm= df_income[df_income.income_value=='yes']\n",
    "df_income_no= df_income_all[df_income_all.mobile_money==0]\n",
    "df_income_mm= df_income_all[df_income_all.mobile_money==1]\n",
    "\n",
    "df_income_mm.shape\n",
    "\n",
    "print(\" The totals of the different types of incomes are as follows: \")\n",
    "df_income_all.income_type.value_counts()"
   ]
  },
  {
   "cell_type": "code",
   "execution_count": null,
   "metadata": {},
   "outputs": [],
   "source": [
    "inc_type  = land_ownership_both.groupby(land_ownership_both.iloc[:-1]).count()\n",
    "inc_type_both_list = list('')\n",
    "labels = ['owns','owns with another','household member','rented','does not own','Dont know']\n",
    "for i in l_o :\n",
    "    land_ownership_both_list.append(i)"
   ]
  },
  {
   "cell_type": "code",
   "execution_count": 113,
   "metadata": {},
   "outputs": [
    {
     "data": {
      "text/html": [
       "<div>\n",
       "<style scoped>\n",
       "    .dataframe tbody tr th:only-of-type {\n",
       "        vertical-align: middle;\n",
       "    }\n",
       "\n",
       "    .dataframe tbody tr th {\n",
       "        vertical-align: top;\n",
       "    }\n",
       "\n",
       "    .dataframe thead th {\n",
       "        text-align: right;\n",
       "    }\n",
       "</style>\n",
       "<table border=\"1\" class=\"dataframe\">\n",
       "  <thead>\n",
       "    <tr style=\"text-align: right;\">\n",
       "      <th>salaries_wages</th>\n",
       "      <th>0</th>\n",
       "      <th>1</th>\n",
       "    </tr>\n",
       "    <tr>\n",
       "      <th>mobile_money_classification</th>\n",
       "      <th></th>\n",
       "      <th></th>\n",
       "    </tr>\n",
       "  </thead>\n",
       "  <tbody>\n",
       "    <tr>\n",
       "      <th>0</th>\n",
       "      <td>1367</td>\n",
       "      <td>19</td>\n",
       "    </tr>\n",
       "    <tr>\n",
       "      <th>1</th>\n",
       "      <td>1747</td>\n",
       "      <td>31</td>\n",
       "    </tr>\n",
       "    <tr>\n",
       "      <th>2</th>\n",
       "      <td>774</td>\n",
       "      <td>30</td>\n",
       "    </tr>\n",
       "    <tr>\n",
       "      <th>3</th>\n",
       "      <td>2765</td>\n",
       "      <td>361</td>\n",
       "    </tr>\n",
       "  </tbody>\n",
       "</table>\n",
       "</div>"
      ],
      "text/plain": [
       "salaries_wages                  0    1\n",
       "mobile_money_classification           \n",
       "0                            1367   19\n",
       "1                            1747   31\n",
       "2                             774   30\n",
       "3                            2765  361"
      ]
     },
     "execution_count": 113,
     "metadata": {},
     "output_type": "execute_result"
    }
   ],
   "source": [
    "# frequency table\n",
    "income_1_table = pd.crosstab(index=df_mobile['mobile_money_classification'], columns=df_mobile['salaries_wages'])\n",
    "income_1_table\n"
   ]
  },
  {
   "cell_type": "code",
   "execution_count": 114,
   "metadata": {},
   "outputs": [
    {
     "data": {
      "text/plain": [
       "Text(0, 0.5, 'count')"
      ]
     },
     "execution_count": 114,
     "metadata": {},
     "output_type": "execute_result"
    },
    {
     "data": {
      "image/png": "[encoded data removed]",
      "text/plain": [
       "<Figure size 432x288 with 1 Axes>"
      ]
     },
     "metadata": {
      "needs_background": "light"
     },
     "output_type": "display_data"
    }
   ],
   "source": [
    "# plot graph\n",
    "income_1_table.plot(kind='bar', stacked=False).set_title('Financial Services Accessed vs salary_wages')\n",
    "plt.ylabel('count')"
   ]
  },
  {
   "cell_type": "code",
   "execution_count": 115,
   "metadata": {},
   "outputs": [
    {
     "data": {
      "text/html": [
       "<div>\n",
       "<style scoped>\n",
       "    .dataframe tbody tr th:only-of-type {\n",
       "        vertical-align: middle;\n",
       "    }\n",
       "\n",
       "    .dataframe tbody tr th {\n",
       "        vertical-align: top;\n",
       "    }\n",
       "\n",
       "    .dataframe thead th {\n",
       "        text-align: right;\n",
       "    }\n",
       "</style>\n",
       "<table border=\"1\" class=\"dataframe\">\n",
       "  <thead>\n",
       "    <tr style=\"text-align: right;\">\n",
       "      <th></th>\n",
       "      <th>ID</th>\n",
       "      <th>selling_services</th>\n",
       "    </tr>\n",
       "  </thead>\n",
       "  <tbody>\n",
       "    <tr>\n",
       "      <th>2</th>\n",
       "      <td>331</td>\n",
       "      <td>0</td>\n",
       "    </tr>\n",
       "    <tr>\n",
       "      <th>3</th>\n",
       "      <td>6729</td>\n",
       "      <td>0</td>\n",
       "    </tr>\n",
       "  </tbody>\n",
       "</table>\n",
       "</div>"
      ],
      "text/plain": [
       "     ID  selling_services\n",
       "2   331                 0\n",
       "3  6729                 0"
      ]
     },
     "execution_count": 115,
     "metadata": {},
     "output_type": "execute_result"
    }
   ],
   "source": [
    "df_mobile.iloc[[2,3], [0, 10]]"
   ]
  },
  {
   "cell_type": "code",
   "execution_count": 116,
   "metadata": {},
   "outputs": [
    {
     "data": {
      "text/html": [
       "<div>\n",
       "<style scoped>\n",
       "    .dataframe tbody tr th:only-of-type {\n",
       "        vertical-align: middle;\n",
       "    }\n",
       "\n",
       "    .dataframe tbody tr th {\n",
       "        vertical-align: top;\n",
       "    }\n",
       "\n",
       "    .dataframe thead th {\n",
       "        text-align: right;\n",
       "    }\n",
       "</style>\n",
       "<table border=\"1\" class=\"dataframe\">\n",
       "  <thead>\n",
       "    <tr style=\"text-align: right;\">\n",
       "      <th>selling_produce</th>\n",
       "      <th>0</th>\n",
       "      <th>1</th>\n",
       "    </tr>\n",
       "    <tr>\n",
       "      <th>mobile_money_classification</th>\n",
       "      <th></th>\n",
       "      <th></th>\n",
       "    </tr>\n",
       "  </thead>\n",
       "  <tbody>\n",
       "    <tr>\n",
       "      <th>0</th>\n",
       "      <td>613</td>\n",
       "      <td>773</td>\n",
       "    </tr>\n",
       "    <tr>\n",
       "      <th>1</th>\n",
       "      <td>498</td>\n",
       "      <td>1280</td>\n",
       "    </tr>\n",
       "    <tr>\n",
       "      <th>2</th>\n",
       "      <td>371</td>\n",
       "      <td>433</td>\n",
       "    </tr>\n",
       "    <tr>\n",
       "      <th>3</th>\n",
       "      <td>1142</td>\n",
       "      <td>1984</td>\n",
       "    </tr>\n",
       "  </tbody>\n",
       "</table>\n",
       "</div>"
      ],
      "text/plain": [
       "selling_produce                 0     1\n",
       "mobile_money_classification            \n",
       "0                             613   773\n",
       "1                             498  1280\n",
       "2                             371   433\n",
       "3                            1142  1984"
      ]
     },
     "execution_count": 116,
     "metadata": {},
     "output_type": "execute_result"
    }
   ],
   "source": [
    "\n",
    "## frequency table\n",
    "income_2_table = pd.crosstab(index=df_mobile['mobile_money_classification'], columns=df_mobile['selling_produce'])\n",
    "income_2_table\n"
   ]
  },
  {
   "cell_type": "code",
   "execution_count": 117,
   "metadata": {},
   "outputs": [
    {
     "data": {
      "text/plain": [
       "Text(0, 0.5, 'count')"
      ]
     },
     "execution_count": 117,
     "metadata": {},
     "output_type": "execute_result"
    },
    {
     "data": {
      "image/png": "[encoded data removed]",
      "text/plain": [
       "<Figure size 432x288 with 1 Axes>"
      ]
     },
     "metadata": {
      "needs_background": "light"
     },
     "output_type": "display_data"
    }
   ],
   "source": [
    "# plot graph\n",
    "income_2_table.plot(kind='bar', stacked=False).set_title('Financial Services Accessed vs Selling produce')\n",
    "plt.ylabel('count')"
   ]
  },
  {
   "cell_type": "code",
   "execution_count": 118,
   "metadata": {},
   "outputs": [
    {
     "data": {
      "text/html": [
       "<div>\n",
       "<style scoped>\n",
       "    .dataframe tbody tr th:only-of-type {\n",
       "        vertical-align: middle;\n",
       "    }\n",
       "\n",
       "    .dataframe tbody tr th {\n",
       "        vertical-align: top;\n",
       "    }\n",
       "\n",
       "    .dataframe thead th {\n",
       "        text-align: right;\n",
       "    }\n",
       "</style>\n",
       "<table border=\"1\" class=\"dataframe\">\n",
       "  <thead>\n",
       "    <tr style=\"text-align: right;\">\n",
       "      <th>selling_services</th>\n",
       "      <th>0</th>\n",
       "      <th>1</th>\n",
       "    </tr>\n",
       "    <tr>\n",
       "      <th>mobile_money_classification</th>\n",
       "      <th></th>\n",
       "      <th></th>\n",
       "    </tr>\n",
       "  </thead>\n",
       "  <tbody>\n",
       "    <tr>\n",
       "      <th>0</th>\n",
       "      <td>1351</td>\n",
       "      <td>35</td>\n",
       "    </tr>\n",
       "    <tr>\n",
       "      <th>1</th>\n",
       "      <td>1716</td>\n",
       "      <td>62</td>\n",
       "    </tr>\n",
       "    <tr>\n",
       "      <th>2</th>\n",
       "      <td>753</td>\n",
       "      <td>51</td>\n",
       "    </tr>\n",
       "    <tr>\n",
       "      <th>3</th>\n",
       "      <td>2862</td>\n",
       "      <td>264</td>\n",
       "    </tr>\n",
       "  </tbody>\n",
       "</table>\n",
       "</div>"
      ],
      "text/plain": [
       "selling_services                0    1\n",
       "mobile_money_classification           \n",
       "0                            1351   35\n",
       "1                            1716   62\n",
       "2                             753   51\n",
       "3                            2862  264"
      ]
     },
     "execution_count": 118,
     "metadata": {},
     "output_type": "execute_result"
    }
   ],
   "source": [
    "\n",
    "## frequency table\n",
    "income_3_table = pd.crosstab(index=df_mobile['mobile_money_classification'], columns=df_mobile['selling_services'])\n",
    "income_3_table"
   ]
  },
  {
   "cell_type": "code",
   "execution_count": 119,
   "metadata": {},
   "outputs": [
    {
     "data": {
      "text/plain": [
       "Text(0, 0.5, 'count')"
      ]
     },
     "execution_count": 119,
     "metadata": {},
     "output_type": "execute_result"
    },
    {
     "data": {
      "image/png": "[encoded data removed]",
      "text/plain": [
       "<Figure size 432x288 with 1 Axes>"
      ]
     },
     "metadata": {
      "needs_background": "light"
     },
     "output_type": "display_data"
    }
   ],
   "source": [
    "# plot graph\n",
    "income_3_table.plot(kind='bar', stacked=False).set_title('Financial Services Accessed vs Selling services')\n",
    "plt.ylabel('count')"
   ]
  },
  {
   "cell_type": "code",
   "execution_count": 120,
   "metadata": {},
   "outputs": [
    {
     "data": {
      "text/html": [
       "<div>\n",
       "<style scoped>\n",
       "    .dataframe tbody tr th:only-of-type {\n",
       "        vertical-align: middle;\n",
       "    }\n",
       "\n",
       "    .dataframe tbody tr th {\n",
       "        vertical-align: top;\n",
       "    }\n",
       "\n",
       "    .dataframe thead th {\n",
       "        text-align: right;\n",
       "    }\n",
       "</style>\n",
       "<table border=\"1\" class=\"dataframe\">\n",
       "  <thead>\n",
       "    <tr style=\"text-align: right;\">\n",
       "      <th>piece_job</th>\n",
       "      <th>0</th>\n",
       "      <th>1</th>\n",
       "    </tr>\n",
       "    <tr>\n",
       "      <th>mobile_money_classification</th>\n",
       "      <th></th>\n",
       "      <th></th>\n",
       "    </tr>\n",
       "  </thead>\n",
       "  <tbody>\n",
       "    <tr>\n",
       "      <th>0</th>\n",
       "      <td>970</td>\n",
       "      <td>416</td>\n",
       "    </tr>\n",
       "    <tr>\n",
       "      <th>1</th>\n",
       "      <td>1128</td>\n",
       "      <td>650</td>\n",
       "    </tr>\n",
       "    <tr>\n",
       "      <th>2</th>\n",
       "      <td>527</td>\n",
       "      <td>277</td>\n",
       "    </tr>\n",
       "    <tr>\n",
       "      <th>3</th>\n",
       "      <td>2076</td>\n",
       "      <td>1050</td>\n",
       "    </tr>\n",
       "  </tbody>\n",
       "</table>\n",
       "</div>"
      ],
      "text/plain": [
       "piece_job                       0     1\n",
       "mobile_money_classification            \n",
       "0                             970   416\n",
       "1                            1128   650\n",
       "2                             527   277\n",
       "3                            2076  1050"
      ]
     },
     "execution_count": 120,
     "metadata": {},
     "output_type": "execute_result"
    }
   ],
   "source": [
    "\n",
    "## frequency table\n",
    "income_4_table = pd.crosstab(index=df_mobile['mobile_money_classification'], columns=df_mobile['piece_job'])\n",
    "income_4_table"
   ]
  },
  {
   "cell_type": "code",
   "execution_count": 121,
   "metadata": {
    "scrolled": true
   },
   "outputs": [
    {
     "data": {
      "text/plain": [
       "Text(0, 0.5, 'count')"
      ]
     },
     "execution_count": 121,
     "metadata": {},
     "output_type": "execute_result"
    },
    {
     "data": {
      "image/png": "[encoded data removed]",
      "text/plain": [
       "<Figure size 432x288 with 1 Axes>"
      ]
     },
     "metadata": {
      "needs_background": "light"
     },
     "output_type": "display_data"
    }
   ],
   "source": [
    "# plot graph\n",
    "income_4_table.plot(kind='bar', stacked=False).set_title('Financial Services Accessed vs Piece Job')\n",
    "plt.ylabel('count')"
   ]
  },
  {
   "cell_type": "code",
   "execution_count": 122,
   "metadata": {},
   "outputs": [
    {
     "data": {
      "text/html": [
       "<div>\n",
       "<style scoped>\n",
       "    .dataframe tbody tr th:only-of-type {\n",
       "        vertical-align: middle;\n",
       "    }\n",
       "\n",
       "    .dataframe tbody tr th {\n",
       "        vertical-align: top;\n",
       "    }\n",
       "\n",
       "    .dataframe thead th {\n",
       "        text-align: right;\n",
       "    }\n",
       "</style>\n",
       "<table border=\"1\" class=\"dataframe\">\n",
       "  <thead>\n",
       "    <tr style=\"text-align: right;\">\n",
       "      <th>rental_income</th>\n",
       "      <th>0</th>\n",
       "      <th>1</th>\n",
       "    </tr>\n",
       "    <tr>\n",
       "      <th>mobile_money_classification</th>\n",
       "      <th></th>\n",
       "      <th></th>\n",
       "    </tr>\n",
       "  </thead>\n",
       "  <tbody>\n",
       "    <tr>\n",
       "      <th>0</th>\n",
       "      <td>1374</td>\n",
       "      <td>12</td>\n",
       "    </tr>\n",
       "    <tr>\n",
       "      <th>1</th>\n",
       "      <td>1768</td>\n",
       "      <td>10</td>\n",
       "    </tr>\n",
       "    <tr>\n",
       "      <th>2</th>\n",
       "      <td>797</td>\n",
       "      <td>7</td>\n",
       "    </tr>\n",
       "    <tr>\n",
       "      <th>3</th>\n",
       "      <td>3088</td>\n",
       "      <td>38</td>\n",
       "    </tr>\n",
       "  </tbody>\n",
       "</table>\n",
       "</div>"
      ],
      "text/plain": [
       "rental_income                   0   1\n",
       "mobile_money_classification          \n",
       "0                            1374  12\n",
       "1                            1768  10\n",
       "2                             797   7\n",
       "3                            3088  38"
      ]
     },
     "execution_count": 122,
     "metadata": {},
     "output_type": "execute_result"
    }
   ],
   "source": [
    "\n",
    "\n",
    "## frequency table\n",
    "income_5_table = pd.crosstab(index=df_mobile['mobile_money_classification'], columns=df_mobile['rental_income'])\n",
    "income_5_table"
   ]
  },
  {
   "cell_type": "code",
   "execution_count": 123,
   "metadata": {},
   "outputs": [
    {
     "data": {
      "text/plain": [
       "Text(0, 0.5, 'count')"
      ]
     },
     "execution_count": 123,
     "metadata": {},
     "output_type": "execute_result"
    },
    {
     "data": {
      "image/png": "[encoded data removed]",
      "text/plain": [
       "<Figure size 432x288 with 1 Axes>"
      ]
     },
     "metadata": {
      "needs_background": "light"
     },
     "output_type": "display_data"
    }
   ],
   "source": [
    "# plot graph\n",
    "income_4_table.plot(kind='bar', stacked=False).set_title('Financial Services Accessed vs Rental Income')\n",
    "plt.ylabel('count')"
   ]
  },
  {
   "cell_type": "code",
   "execution_count": 124,
   "metadata": {},
   "outputs": [
    {
     "data": {
      "text/html": [
       "<div>\n",
       "<style scoped>\n",
       "    .dataframe tbody tr th:only-of-type {\n",
       "        vertical-align: middle;\n",
       "    }\n",
       "\n",
       "    .dataframe tbody tr th {\n",
       "        vertical-align: top;\n",
       "    }\n",
       "\n",
       "    .dataframe thead th {\n",
       "        text-align: right;\n",
       "    }\n",
       "</style>\n",
       "<table border=\"1\" class=\"dataframe\">\n",
       "  <thead>\n",
       "    <tr style=\"text-align: right;\">\n",
       "      <th>interest_earned</th>\n",
       "      <th>0</th>\n",
       "      <th>1</th>\n",
       "    </tr>\n",
       "    <tr>\n",
       "      <th>mobile_money_classification</th>\n",
       "      <th></th>\n",
       "      <th></th>\n",
       "    </tr>\n",
       "  </thead>\n",
       "  <tbody>\n",
       "    <tr>\n",
       "      <th>0</th>\n",
       "      <td>1384</td>\n",
       "      <td>2</td>\n",
       "    </tr>\n",
       "    <tr>\n",
       "      <th>1</th>\n",
       "      <td>1770</td>\n",
       "      <td>8</td>\n",
       "    </tr>\n",
       "    <tr>\n",
       "      <th>2</th>\n",
       "      <td>802</td>\n",
       "      <td>2</td>\n",
       "    </tr>\n",
       "    <tr>\n",
       "      <th>3</th>\n",
       "      <td>3104</td>\n",
       "      <td>22</td>\n",
       "    </tr>\n",
       "  </tbody>\n",
       "</table>\n",
       "</div>"
      ],
      "text/plain": [
       "interest_earned                 0   1\n",
       "mobile_money_classification          \n",
       "0                            1384   2\n",
       "1                            1770   8\n",
       "2                             802   2\n",
       "3                            3104  22"
      ]
     },
     "execution_count": 124,
     "metadata": {},
     "output_type": "execute_result"
    }
   ],
   "source": [
    "## frequency table\n",
    "income_6_table = pd.crosstab(index=df_mobile['mobile_money_classification'], columns=df_mobile['interest_earned'])\n",
    "income_6_table"
   ]
  },
  {
   "cell_type": "code",
   "execution_count": 125,
   "metadata": {},
   "outputs": [
    {
     "data": {
      "text/plain": [
       "Text(0, 0.5, 'count')"
      ]
     },
     "execution_count": 125,
     "metadata": {},
     "output_type": "execute_result"
    },
    {
     "data": {
      "image/png": "[encoded data removed]",
      "text/plain": [
       "<Figure size 432x288 with 1 Axes>"
      ]
     },
     "metadata": {
      "needs_background": "light"
     },
     "output_type": "display_data"
    }
   ],
   "source": [
    "# plot graph\n",
    "income_6_table.plot(kind='bar', stacked=False).set_title('Financial Services Accessed vs Interest earned')\n",
    "plt.ylabel('count')"
   ]
  },
  {
   "cell_type": "code",
   "execution_count": 126,
   "metadata": {},
   "outputs": [
    {
     "data": {
      "text/html": [
       "<div>\n",
       "<style scoped>\n",
       "    .dataframe tbody tr th:only-of-type {\n",
       "        vertical-align: middle;\n",
       "    }\n",
       "\n",
       "    .dataframe tbody tr th {\n",
       "        vertical-align: top;\n",
       "    }\n",
       "\n",
       "    .dataframe thead th {\n",
       "        text-align: right;\n",
       "    }\n",
       "</style>\n",
       "<table border=\"1\" class=\"dataframe\">\n",
       "  <thead>\n",
       "    <tr style=\"text-align: right;\">\n",
       "      <th>pension</th>\n",
       "      <th>0</th>\n",
       "      <th>1</th>\n",
       "    </tr>\n",
       "    <tr>\n",
       "      <th>mobile_money_classification</th>\n",
       "      <th></th>\n",
       "      <th></th>\n",
       "    </tr>\n",
       "  </thead>\n",
       "  <tbody>\n",
       "    <tr>\n",
       "      <th>0</th>\n",
       "      <td>1383</td>\n",
       "      <td>3</td>\n",
       "    </tr>\n",
       "    <tr>\n",
       "      <th>1</th>\n",
       "      <td>1775</td>\n",
       "      <td>3</td>\n",
       "    </tr>\n",
       "    <tr>\n",
       "      <th>2</th>\n",
       "      <td>800</td>\n",
       "      <td>4</td>\n",
       "    </tr>\n",
       "    <tr>\n",
       "      <th>3</th>\n",
       "      <td>3102</td>\n",
       "      <td>24</td>\n",
       "    </tr>\n",
       "  </tbody>\n",
       "</table>\n",
       "</div>"
      ],
      "text/plain": [
       "pension                         0   1\n",
       "mobile_money_classification          \n",
       "0                            1383   3\n",
       "1                            1775   3\n",
       "2                             800   4\n",
       "3                            3102  24"
      ]
     },
     "execution_count": 126,
     "metadata": {},
     "output_type": "execute_result"
    }
   ],
   "source": [
    "## frequency table\n",
    "income_7_table = pd.crosstab(index=df_mobile['mobile_money_classification'], columns=df_mobile['pension'])\n",
    "income_7_table"
   ]
  },
  {
   "cell_type": "code",
   "execution_count": 127,
   "metadata": {},
   "outputs": [
    {
     "data": {
      "text/plain": [
       "Text(0, 0.5, 'count')"
      ]
     },
     "execution_count": 127,
     "metadata": {},
     "output_type": "execute_result"
    },
    {
     "data": {
      "image/png": "[encoded data removed]",
      "text/plain": [
       "<Figure size 432x288 with 1 Axes>"
      ]
     },
     "metadata": {
      "needs_background": "light"
     },
     "output_type": "display_data"
    }
   ],
   "source": [
    "# plot graph\n",
    "income_7_table.plot(kind='bar', stacked=False).set_title('Financial Services Accessed vs pension')\n",
    "plt.ylabel('count')"
   ]
  },
  {
   "cell_type": "code",
   "execution_count": null,
   "metadata": {},
   "outputs": [],
   "source": []
  },
  {
   "cell_type": "code",
   "execution_count": 128,
   "metadata": {},
   "outputs": [
    {
     "data": {
      "text/html": [
       "<div>\n",
       "<style scoped>\n",
       "    .dataframe tbody tr th:only-of-type {\n",
       "        vertical-align: middle;\n",
       "    }\n",
       "\n",
       "    .dataframe tbody tr th {\n",
       "        vertical-align: top;\n",
       "    }\n",
       "\n",
       "    .dataframe thead th {\n",
       "        text-align: right;\n",
       "    }\n",
       "</style>\n",
       "<table border=\"1\" class=\"dataframe\">\n",
       "  <thead>\n",
       "    <tr style=\"text-align: right;\">\n",
       "      <th>social_grant</th>\n",
       "      <th>0</th>\n",
       "      <th>1</th>\n",
       "    </tr>\n",
       "    <tr>\n",
       "      <th>mobile_money_classification</th>\n",
       "      <th></th>\n",
       "      <th></th>\n",
       "    </tr>\n",
       "  </thead>\n",
       "  <tbody>\n",
       "    <tr>\n",
       "      <th>0</th>\n",
       "      <td>1349</td>\n",
       "      <td>37</td>\n",
       "    </tr>\n",
       "    <tr>\n",
       "      <th>1</th>\n",
       "      <td>1719</td>\n",
       "      <td>59</td>\n",
       "    </tr>\n",
       "    <tr>\n",
       "      <th>2</th>\n",
       "      <td>797</td>\n",
       "      <td>7</td>\n",
       "    </tr>\n",
       "    <tr>\n",
       "      <th>3</th>\n",
       "      <td>3098</td>\n",
       "      <td>28</td>\n",
       "    </tr>\n",
       "  </tbody>\n",
       "</table>\n",
       "</div>"
      ],
      "text/plain": [
       "social_grant                    0   1\n",
       "mobile_money_classification          \n",
       "0                            1349  37\n",
       "1                            1719  59\n",
       "2                             797   7\n",
       "3                            3098  28"
      ]
     },
     "execution_count": 128,
     "metadata": {},
     "output_type": "execute_result"
    }
   ],
   "source": [
    "## frequency table\n",
    "income_8_table = pd.crosstab(index=df_mobile['mobile_money_classification'], columns=df_mobile['social_grant'])\n",
    "income_8_table"
   ]
  },
  {
   "cell_type": "code",
   "execution_count": 129,
   "metadata": {},
   "outputs": [
    {
     "data": {
      "text/plain": [
       "Text(0, 0.5, 'count')"
      ]
     },
     "execution_count": 129,
     "metadata": {},
     "output_type": "execute_result"
    },
    {
     "data": {
      "image/png": "[encoded data removed]",
      "text/plain": [
       "<Figure size 432x288 with 1 Axes>"
      ]
     },
     "metadata": {
      "needs_background": "light"
     },
     "output_type": "display_data"
    }
   ],
   "source": [
    "# plot graph\n",
    "income_8_table.plot(kind='bar', stacked=False).set_title('Financial Services Accessed vs social grants')\n",
    "plt.ylabel('count')"
   ]
  },
  {
   "cell_type": "code",
   "execution_count": 130,
   "metadata": {},
   "outputs": [
    {
     "data": {
      "text/html": [
       "<div>\n",
       "<style scoped>\n",
       "    .dataframe tbody tr th:only-of-type {\n",
       "        vertical-align: middle;\n",
       "    }\n",
       "\n",
       "    .dataframe tbody tr th {\n",
       "        vertical-align: top;\n",
       "    }\n",
       "\n",
       "    .dataframe thead th {\n",
       "        text-align: right;\n",
       "    }\n",
       "</style>\n",
       "<table border=\"1\" class=\"dataframe\">\n",
       "  <thead>\n",
       "    <tr style=\"text-align: right;\">\n",
       "      <th>pocket_money</th>\n",
       "      <th>0</th>\n",
       "      <th>1</th>\n",
       "    </tr>\n",
       "    <tr>\n",
       "      <th>mobile_money_classification</th>\n",
       "      <th></th>\n",
       "      <th></th>\n",
       "    </tr>\n",
       "  </thead>\n",
       "  <tbody>\n",
       "    <tr>\n",
       "      <th>0</th>\n",
       "      <td>1119</td>\n",
       "      <td>267</td>\n",
       "    </tr>\n",
       "    <tr>\n",
       "      <th>1</th>\n",
       "      <td>1547</td>\n",
       "      <td>231</td>\n",
       "    </tr>\n",
       "    <tr>\n",
       "      <th>2</th>\n",
       "      <td>660</td>\n",
       "      <td>144</td>\n",
       "    </tr>\n",
       "    <tr>\n",
       "      <th>3</th>\n",
       "      <td>2656</td>\n",
       "      <td>470</td>\n",
       "    </tr>\n",
       "  </tbody>\n",
       "</table>\n",
       "</div>"
      ],
      "text/plain": [
       "pocket_money                    0    1\n",
       "mobile_money_classification           \n",
       "0                            1119  267\n",
       "1                            1547  231\n",
       "2                             660  144\n",
       "3                            2656  470"
      ]
     },
     "execution_count": 130,
     "metadata": {},
     "output_type": "execute_result"
    }
   ],
   "source": [
    "\n",
    "## frequency table\n",
    "income_9_table = pd.crosstab(index=df_mobile['mobile_money_classification'], columns=df_mobile['pocket_money'])\n",
    "income_9_table"
   ]
  },
  {
   "cell_type": "code",
   "execution_count": 131,
   "metadata": {},
   "outputs": [
    {
     "data": {
      "text/plain": [
       "Text(0, 0.5, 'count')"
      ]
     },
     "execution_count": 131,
     "metadata": {},
     "output_type": "execute_result"
    },
    {
     "data": {
      "image/png": "[encoded data removed]",
      "text/plain": [
       "<Figure size 432x288 with 1 Axes>"
      ]
     },
     "metadata": {
      "needs_background": "light"
     },
     "output_type": "display_data"
    }
   ],
   "source": [
    "# plot graph\n",
    "income_9_table.plot(kind='bar', stacked=False).set_title('Financial Services Accessed vs pocket money')\n",
    "plt.ylabel('count')"
   ]
  },
  {
   "cell_type": "code",
   "execution_count": 132,
   "metadata": {},
   "outputs": [
    {
     "data": {
      "text/html": [
       "<div>\n",
       "<style scoped>\n",
       "    .dataframe tbody tr th:only-of-type {\n",
       "        vertical-align: middle;\n",
       "    }\n",
       "\n",
       "    .dataframe tbody tr th {\n",
       "        vertical-align: top;\n",
       "    }\n",
       "\n",
       "    .dataframe thead th {\n",
       "        text-align: right;\n",
       "    }\n",
       "</style>\n",
       "<table border=\"1\" class=\"dataframe\">\n",
       "  <thead>\n",
       "    <tr style=\"text-align: right;\">\n",
       "      <th>someone_pays</th>\n",
       "      <th>0</th>\n",
       "      <th>1</th>\n",
       "    </tr>\n",
       "    <tr>\n",
       "      <th>mobile_money_classification</th>\n",
       "      <th></th>\n",
       "      <th></th>\n",
       "    </tr>\n",
       "  </thead>\n",
       "  <tbody>\n",
       "    <tr>\n",
       "      <th>0</th>\n",
       "      <td>1221</td>\n",
       "      <td>165</td>\n",
       "    </tr>\n",
       "    <tr>\n",
       "      <th>1</th>\n",
       "      <td>1707</td>\n",
       "      <td>71</td>\n",
       "    </tr>\n",
       "    <tr>\n",
       "      <th>2</th>\n",
       "      <td>726</td>\n",
       "      <td>78</td>\n",
       "    </tr>\n",
       "    <tr>\n",
       "      <th>3</th>\n",
       "      <td>3030</td>\n",
       "      <td>96</td>\n",
       "    </tr>\n",
       "  </tbody>\n",
       "</table>\n",
       "</div>"
      ],
      "text/plain": [
       "someone_pays                    0    1\n",
       "mobile_money_classification           \n",
       "0                            1221  165\n",
       "1                            1707   71\n",
       "2                             726   78\n",
       "3                            3030   96"
      ]
     },
     "execution_count": 132,
     "metadata": {},
     "output_type": "execute_result"
    }
   ],
   "source": [
    "## frequency table\n",
    "income_10_table = pd.crosstab(index=df_mobile['mobile_money_classification'], columns=df_mobile['someone_pays'])\n",
    "income_10_table"
   ]
  },
  {
   "cell_type": "code",
   "execution_count": 133,
   "metadata": {},
   "outputs": [
    {
     "data": {
      "text/plain": [
       "Text(0, 0.5, 'count')"
      ]
     },
     "execution_count": 133,
     "metadata": {},
     "output_type": "execute_result"
    },
    {
     "data": {
      "image/png": "[encoded data removed]",
      "text/plain": [
       "<Figure size 432x288 with 1 Axes>"
      ]
     },
     "metadata": {
      "needs_background": "light"
     },
     "output_type": "display_data"
    }
   ],
   "source": [
    "# plot graph\n",
    "income_10_table.plot(kind='bar', stacked=False).set_title('Financial Services Accessed vs someone pays')\n",
    "plt.ylabel('count')"
   ]
  },
  {
   "cell_type": "code",
   "execution_count": 134,
   "metadata": {},
   "outputs": [
    {
     "data": {
      "text/html": [
       "<div>\n",
       "<style scoped>\n",
       "    .dataframe tbody tr th:only-of-type {\n",
       "        vertical-align: middle;\n",
       "    }\n",
       "\n",
       "    .dataframe tbody tr th {\n",
       "        vertical-align: top;\n",
       "    }\n",
       "\n",
       "    .dataframe thead th {\n",
       "        text-align: right;\n",
       "    }\n",
       "</style>\n",
       "<table border=\"1\" class=\"dataframe\">\n",
       "  <thead>\n",
       "    <tr style=\"text-align: right;\">\n",
       "      <th>other</th>\n",
       "      <th>0</th>\n",
       "      <th>1</th>\n",
       "    </tr>\n",
       "    <tr>\n",
       "      <th>mobile_money_classification</th>\n",
       "      <th></th>\n",
       "      <th></th>\n",
       "    </tr>\n",
       "  </thead>\n",
       "  <tbody>\n",
       "    <tr>\n",
       "      <th>0</th>\n",
       "      <td>1386</td>\n",
       "      <td>0</td>\n",
       "    </tr>\n",
       "    <tr>\n",
       "      <th>1</th>\n",
       "      <td>1778</td>\n",
       "      <td>0</td>\n",
       "    </tr>\n",
       "    <tr>\n",
       "      <th>2</th>\n",
       "      <td>802</td>\n",
       "      <td>2</td>\n",
       "    </tr>\n",
       "    <tr>\n",
       "      <th>3</th>\n",
       "      <td>3119</td>\n",
       "      <td>7</td>\n",
       "    </tr>\n",
       "  </tbody>\n",
       "</table>\n",
       "</div>"
      ],
      "text/plain": [
       "other                           0  1\n",
       "mobile_money_classification         \n",
       "0                            1386  0\n",
       "1                            1778  0\n",
       "2                             802  2\n",
       "3                            3119  7"
      ]
     },
     "execution_count": 134,
     "metadata": {},
     "output_type": "execute_result"
    }
   ],
   "source": [
    "## frequency table\n",
    "income_11_table = pd.crosstab(index=df_mobile['mobile_money_classification'], columns=df_mobile['other'])\n",
    "income_11_table"
   ]
  },
  {
   "cell_type": "code",
   "execution_count": 135,
   "metadata": {},
   "outputs": [
    {
     "data": {
      "text/plain": [
       "Text(0, 0.5, 'count')"
      ]
     },
     "execution_count": 135,
     "metadata": {},
     "output_type": "execute_result"
    },
    {
     "data": {
      "image/png": "[encoded data removed]",
      "text/plain": [
       "<Figure size 432x288 with 1 Axes>"
      ]
     },
     "metadata": {
      "needs_background": "light"
     },
     "output_type": "display_data"
    }
   ],
   "source": [
    "# plot graph\n",
    "income_11_table.plot(kind='bar', stacked=False).set_title('Financial Services Accessed vs other')\n",
    "plt.ylabel('count')"
   ]
  },
  {
   "cell_type": "code",
   "execution_count": 136,
   "metadata": {},
   "outputs": [],
   "source": [
    "\n",
    "num_to_word= {\n",
    "    -1: 'NA',\n",
    "    1: 'Never',\n",
    "    2: 'Daily',\n",
    "    3: 'Weekly',\n",
    "    4: 'Monthly',\n",
    "    5: 'Less than monthly'\n",
    "}\n",
    "df_mobile['how_often_purchase_mobilemoney']= df_income['how_often_purchase_mobilemoney'].map(num_to_word)"
   ]
  },
  {
   "cell_type": "code",
   "execution_count": 137,
   "metadata": {},
   "outputs": [
    {
     "data": {
      "text/plain": [
       "<seaborn.axisgrid.FacetGrid at 0x7f4cb5fe7fd0>"
      ]
     },
     "execution_count": 137,
     "metadata": {},
     "output_type": "execute_result"
    },
    {
     "data": {
      "image/png": "[encoded data removed]",
      "text/plain": [
       "<Figure size 543.375x360 with 1 Axes>"
      ]
     },
     "metadata": {
      "needs_background": "light"
     },
     "output_type": "display_data"
    }
   ],
   "source": [
    "#Age Classification\n",
    "def to_age_group(year):\n",
    "    if year<=18:\n",
    "        return 'teenager'\n",
    "    elif year >18 and year<=25:\n",
    "        return 'youth'\n",
    "    elif year>25 and year<=35:\n",
    "        return 'young adult'\n",
    "    elif year >35 and year<=60:\n",
    "        return 'midddle age'\n",
    "    else:\n",
    "        return 'senior'\n",
    "     \n",
    "df_mobile['age_group']= df_mobile.age.apply(to_age_group)\n",
    "#Frequency of age\n",
    "sns.catplot(hue='how_often_purchase_mobilemoney', y='age_group', data=df_mobile, kind='count')"
   ]
  },
  {
   "cell_type": "code",
   "execution_count": 138,
   "metadata": {},
   "outputs": [
    {
     "data": {
      "image/png": "[encoded data removed]",
      "text/plain": [
       "<Figure size 430.5x360 with 1 Axes>"
      ]
     },
     "metadata": {
      "needs_background": "light"
     },
     "output_type": "display_data"
    }
   ],
   "source": [
    "# Frequency of gender\n",
    "sns.catplot(hue='gender', y='how_often_purchase_mobilemoney', data=df_mobile, kind='count')\n",
    "plt.show()"
   ]
  },
  {
   "cell_type": "code",
   "execution_count": 139,
   "metadata": {},
   "outputs": [],
   "source": [
    "num_to_word={\n",
    "    1: 'married',\n",
    "    2: 'divorced',\n",
    "    3: 'widowed',\n",
    "    4: 'single'\n",
    "    \n",
    "}\n",
    "df_mobile['marital_status']= df_mobile['marital_status'].map(num_to_word)"
   ]
  },
  {
   "cell_type": "code",
   "execution_count": 140,
   "metadata": {},
   "outputs": [
    {
     "ename": "TypeError",
     "evalue": "min expected 1 arguments, got 0",
     "output_type": "error",
     "traceback": [
      "\u001b[0;31m---------------------------------------------------------------------------\u001b[0m",
      "\u001b[0;31mTypeError\u001b[0m                                 Traceback (most recent call last)",
      "\u001b[0;32m<ipython-input-140-fb8685eab2c4>\u001b[0m in \u001b[0;36m<module>\u001b[0;34m\u001b[0m\n\u001b[0;32m----> 1\u001b[0;31m \u001b[0msns\u001b[0m\u001b[0;34m.\u001b[0m\u001b[0mcatplot\u001b[0m\u001b[0;34m(\u001b[0m\u001b[0mhue\u001b[0m\u001b[0;34m=\u001b[0m\u001b[0;34m'marital_status'\u001b[0m\u001b[0;34m,\u001b[0m \u001b[0my\u001b[0m\u001b[0;34m=\u001b[0m\u001b[0;34m'how_often_purchase_mobilemoney'\u001b[0m\u001b[0;34m,\u001b[0m \u001b[0mdata\u001b[0m\u001b[0;34m=\u001b[0m\u001b[0mdf_mobile\u001b[0m\u001b[0;34m,\u001b[0m \u001b[0mkind\u001b[0m\u001b[0;34m=\u001b[0m\u001b[0;34m'count'\u001b[0m\u001b[0;34m,\u001b[0m \u001b[0mlum\u001b[0m \u001b[0;34m=\u001b[0m \u001b[0mmin\u001b[0m\u001b[0;34m(\u001b[0m\u001b[0;34m)\u001b[0m\u001b[0;34m)\u001b[0m\u001b[0;34m\u001b[0m\u001b[0;34m\u001b[0m\u001b[0m\n\u001b[0m",
      "\u001b[0;31mTypeError\u001b[0m: min expected 1 arguments, got 0"
     ]
    }
   ],
   "source": [
    "\n",
    "sns.catplot(hue='marital_status', y='how_often_purchase_mobilemoney', data=df_mobile, kind='count', lum = min())"
   ]
  },
  {
   "cell_type": "code",
   "execution_count": 141,
   "metadata": {},
   "outputs": [
    {
     "data": {
      "text/plain": [
       "<seaborn.axisgrid.FacetGrid at 0x7f4cb5e44610>"
      ]
     },
     "execution_count": 141,
     "metadata": {},
     "output_type": "execute_result"
    },
    {
     "data": {
      "image/png": "[encoded data removed]",
      "text/plain": [
       "<Figure size 483.375x360 with 1 Axes>"
      ]
     },
     "metadata": {
      "needs_background": "light"
     },
     "output_type": "display_data"
    }
   ],
   "source": [
    "sns.catplot(hue='title_deed', y='how_often_purchase_mobilemoney', data=df_mobile, kind='count')"
   ]
  },
  {
   "cell_type": "code",
   "execution_count": 143,
   "metadata": {},
   "outputs": [],
   "source": [
    "num_to_word= {\n",
    "    -1: 'Not_Applicable',\n",
    "    1: 'Never',\n",
    "    2: 'Daily',\n",
    "    3: 'Weekly',\n",
    "    4: 'Monthly',\n",
    "    5: 'Less than monthly'\n",
    "}\n",
    "\n",
    "df_income_all=df_income_all['how_often_purchase_mobilemoney'].map(num_to_word)\n"
   ]
  },
  {
   "cell_type": "code",
   "execution_count": null,
   "metadata": {},
   "outputs": [],
   "source": [
    "selling_produce     4470\n",
    "piece_job           2393\n",
    "pocket_money        1112\n",
    "salaries_wages       441\n",
    "selling_services     412\n",
    "someone_pays         410\n",
    "social_grant         131\n",
    "rental_income         67\n",
    "pension               34\n",
    "interest_earned       34\n",
    "other                  9\n",
    "Name: income_type, dtype: int64\n"
   ]
  },
  {
   "cell_type": "code",
   "execution_count": 145,
   "metadata": {},
   "outputs": [
    {
     "data": {
      "text/plain": [
       "Text(0, 0.5, 'count')"
      ]
     },
     "execution_count": 145,
     "metadata": {},
     "output_type": "execute_result"
    },
    {
     "data": {
      "image/png": "[encoded data removed]",
      "text/plain": [
       "<Figure size 432x288 with 1 Axes>"
      ]
     },
     "metadata": {
      "needs_background": "light"
     },
     "output_type": "display_data"
    }
   ],
   "source": [
    "## frequency table\n",
    "income_1_table = pd.crosstab(index=df_mobile['how_often_purchase_mobilemoney'], columns=df_mobile['salaries_wages'])\n",
    "income_1_table\n",
    "income_1_table.plot(kind='bar', stacked=False).set_title('Financial Services Accessed vs salary_wages')\n",
    "plt.ylabel('count')\n"
   ]
  },
  {
   "cell_type": "code",
   "execution_count": 146,
   "metadata": {},
   "outputs": [
    {
     "data": {
      "text/plain": [
       "Text(0, 0.5, 'count')"
      ]
     },
     "execution_count": 146,
     "metadata": {},
     "output_type": "execute_result"
    },
    {
     "data": {
      "image/png": "[encoded data removed]",
      "text/plain": [
       "<Figure size 432x288 with 1 Axes>"
      ]
     },
     "metadata": {
      "needs_background": "light"
     },
     "output_type": "display_data"
    }
   ],
   "source": [
    "## frequency table\n",
    "income_2_table = pd.crosstab(index=df_mobile['how_often_purchase_mobilemoney'], columns=df_mobile['selling_produce'])\n",
    "income_2_table\n",
    "income_2_table.plot(kind='bar', stacked=False).set_title('Financial Services Accessed vs selling_produce')\n",
    "plt.ylabel('count')"
   ]
  },
  {
   "cell_type": "code",
   "execution_count": 147,
   "metadata": {},
   "outputs": [
    {
     "data": {
      "text/plain": [
       "Text(0, 0.5, 'count')"
      ]
     },
     "execution_count": 147,
     "metadata": {},
     "output_type": "execute_result"
    },
    {
     "data": {
      "image/png": "[encoded data removed]",
      "text/plain": [
       "<Figure size 432x288 with 1 Axes>"
      ]
     },
     "metadata": {
      "needs_background": "light"
     },
     "output_type": "display_data"
    }
   ],
   "source": [
    "## frequency table\n",
    "income_3_table = pd.crosstab(index=df_mobile['how_often_purchase_mobilemoney'], columns=df_mobile['piece_job'])\n",
    "income_3_table\n",
    "income_3_table.plot(kind='bar', stacked=False).set_title('Financial Services Accessed vs piece_job')\n",
    "plt.ylabel('count')\n"
   ]
  },
  {
   "cell_type": "code",
   "execution_count": 148,
   "metadata": {},
   "outputs": [
    {
     "data": {
      "text/plain": [
       "Text(0, 0.5, 'count')"
      ]
     },
     "execution_count": 148,
     "metadata": {},
     "output_type": "execute_result"
    },
    {
     "data": {
      "image/png": "[encoded data removed]",
      "text/plain": [
       "<Figure size 432x288 with 1 Axes>"
      ]
     },
     "metadata": {
      "needs_background": "light"
     },
     "output_type": "display_data"
    }
   ],
   "source": [
    "## frequency table\n",
    "income_4_table = pd.crosstab(index=df_mobile['how_often_purchase_mobilemoney'], columns=df_mobile['pocket_money'])\n",
    "income_4_table\n",
    "income_4_table.plot(kind='bar', stacked=False).set_title('Financial Services Accessed vs pocket_money')\n",
    "plt.ylabel('count')"
   ]
  },
  {
   "cell_type": "code",
   "execution_count": 149,
   "metadata": {},
   "outputs": [
    {
     "data": {
      "text/plain": [
       "Text(0, 0.5, 'count')"
      ]
     },
     "execution_count": 149,
     "metadata": {},
     "output_type": "execute_result"
    },
    {
     "data": {
      "image/png": "[encoded data removed]",
      "text/plain": [
       "<Figure size 432x288 with 1 Axes>"
      ]
     },
     "metadata": {
      "needs_background": "light"
     },
     "output_type": "display_data"
    }
   ],
   "source": [
    "## frequency table\n",
    "income_5_table = pd.crosstab(index=df_mobile['how_often_purchase_mobilemoney'], columns=df_mobile['selling_services'])\n",
    "income_5_table\n",
    "income_5_table.plot(kind='bar', stacked=False).set_title('Financial Services Accessed vs selling_services')\n",
    "plt.ylabel('count')"
   ]
  },
  {
   "cell_type": "code",
   "execution_count": 150,
   "metadata": {},
   "outputs": [
    {
     "data": {
      "text/plain": [
       "Text(0, 0.5, 'count')"
      ]
     },
     "execution_count": 150,
     "metadata": {},
     "output_type": "execute_result"
    },
    {
     "data": {
      "image/png": "[encoded data removed]",
      "text/plain": [
       "<Figure size 432x288 with 1 Axes>"
      ]
     },
     "metadata": {
      "needs_background": "light"
     },
     "output_type": "display_data"
    }
   ],
   "source": [
    "## frequency table\n",
    "income_6_table = pd.crosstab(index=df_mobile['how_often_purchase_mobilemoney'], columns=df_mobile['someone_pays'])\n",
    "income_6_table\n",
    "income_6_table.plot(kind='bar', stacked=False).set_title('Financial Services Accessed vs someone_pays')\n",
    "plt.ylabel('count')"
   ]
  },
  {
   "cell_type": "code",
   "execution_count": 151,
   "metadata": {},
   "outputs": [
    {
     "data": {
      "text/plain": [
       "Text(0, 0.5, 'count')"
      ]
     },
     "execution_count": 151,
     "metadata": {},
     "output_type": "execute_result"
    },
    {
     "data": {
      "image/png": "[encoded data removed]",
      "text/plain": [
       "<Figure size 432x288 with 1 Axes>"
      ]
     },
     "metadata": {
      "needs_background": "light"
     },
     "output_type": "display_data"
    }
   ],
   "source": [
    "## frequency table\n",
    "income_7_table = pd.crosstab(index=df_mobile['how_often_purchase_mobilemoney'], columns=df_mobile['social_grant'])\n",
    "income_7_table\n",
    "income_7_table.plot(kind='bar', stacked=False).set_title('Financial Services Accessed vs social_grant')\n",
    "plt.ylabel('count')"
   ]
  },
  {
   "cell_type": "code",
   "execution_count": 153,
   "metadata": {},
   "outputs": [
    {
     "data": {
      "text/plain": [
       "Text(0, 0.5, 'count')"
      ]
     },
     "execution_count": 153,
     "metadata": {},
     "output_type": "execute_result"
    },
    {
     "data": {
      "image/png": "[encoded data removed]",
      "text/plain": [
       "<Figure size 432x288 with 1 Axes>"
      ]
     },
     "metadata": {
      "needs_background": "light"
     },
     "output_type": "display_data"
    }
   ],
   "source": [
    "## frequency table\n",
    "income_8_table = pd.crosstab(index=df_mobile['how_often_purchase_mobilemoney'], columns=df_mobile['rental_income'])\n",
    "income_8_table\n",
    "income_8_table.plot(kind='bar', stacked=False).set_title('Financial Services Accessed vs rental_income ')\n",
    "plt.ylabel('count')"
   ]
  },
  {
   "cell_type": "code",
   "execution_count": 154,
   "metadata": {},
   "outputs": [
    {
     "data": {
      "text/plain": [
       "Text(0, 0.5, 'count')"
      ]
     },
     "execution_count": 154,
     "metadata": {},
     "output_type": "execute_result"
    },
    {
     "data": {
      "image/png": "[encoded data removed]",
      "text/plain": [
       "<Figure size 432x288 with 1 Axes>"
      ]
     },
     "metadata": {
      "needs_background": "light"
     },
     "output_type": "display_data"
    }
   ],
   "source": [
    "## frequency table\n",
    "income_9_table = pd.crosstab(index=df_mobile['how_often_purchase_mobilemoney'], columns=df_mobile['pension'])\n",
    "income_9_table\n",
    "income_9_table.plot(kind='bar', stacked=False).set_title('Financial Services Accessed vs pension ')\n",
    "plt.ylabel('count')"
   ]
  },
  {
   "cell_type": "code",
   "execution_count": 155,
   "metadata": {},
   "outputs": [
    {
     "data": {
      "text/plain": [
       "Text(0, 0.5, 'count')"
      ]
     },
     "execution_count": 155,
     "metadata": {},
     "output_type": "execute_result"
    },
    {
     "data": {
      "image/png": "[encoded data removed]",
      "text/plain": [
       "<Figure size 432x288 with 1 Axes>"
      ]
     },
     "metadata": {
      "needs_background": "light"
     },
     "output_type": "display_data"
    }
   ],
   "source": [
    "## frequency table\n",
    "income_10_table = pd.crosstab(index=df_mobile['how_often_purchase_mobilemoney'], columns=df_mobile['interest_earned'])\n",
    "income_10_table\n",
    "income_10_table.plot(kind='bar', stacked=False).set_title('Financial Services Accessed vs interest_earned')\n",
    "plt.ylabel('count')"
   ]
  },
  {
   "cell_type": "code",
   "execution_count": 156,
   "metadata": {},
   "outputs": [
    {
     "data": {
      "text/plain": [
       "Text(0, 0.5, 'count')"
      ]
     },
     "execution_count": 156,
     "metadata": {},
     "output_type": "execute_result"
    },
    {
     "data": {
      "image/png": "[encoded data removed]",
      "text/plain": [
       "<Figure size 432x288 with 1 Axes>"
      ]
     },
     "metadata": {
      "needs_background": "light"
     },
     "output_type": "display_data"
    }
   ],
   "source": [
    "## frequency table\n",
    "income_11_table = pd.crosstab(index=df_mobile['how_often_purchase_mobilemoney'], columns=df_mobile['other'])\n",
    "income_11_table\n",
    "income_11_table.plot(kind='bar', stacked=False).set_title('Financial Services Accessed vs other')\n",
    "plt.ylabel('count')"
   ]
  }
 ],
 "metadata": {
  "kernelspec": {
   "display_name": "Python 3",
   "language": "python",
   "name": "python3"
  },
  "language_info": {
   "codemirror_mode": {
    "name": "ipython",
    "version": 3
   },
   "file_extension": ".py",
   "mimetype": "text/x-python",
   "name": "python",
   "nbconvert_exporter": "python",
   "pygments_lexer": "ipython3",
   "version": "3.7.4"
  }
 },
 "nbformat": 4,
 "nbformat_minor": 2
}
